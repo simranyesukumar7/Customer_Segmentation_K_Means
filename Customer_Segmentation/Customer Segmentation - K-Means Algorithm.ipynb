{
 "cells": [
  {
   "cell_type": "code",
   "execution_count": 91,
   "id": "2365e407",
   "metadata": {},
   "outputs": [],
   "source": [
    "#Importing the libraries\n",
    "import pandas as pd\n",
    "import matplotlib.pyplot as plt\n",
    "from sklearn.preprocessing import StandardScaler\n",
    "from sklearn.cluster import KMeans\n",
    "import seaborn as sns\n",
    "from sklearn.datasets import make_blobs\n",
    "from sklearn.metrics import silhouette_score\n",
    "from sklearn.decomposition import PCA\n",
    "from mpl_toolkits.mplot3d import Axes3D"
   ]
  },
  {
   "cell_type": "code",
   "execution_count": 27,
   "id": "3c23b504",
   "metadata": {},
   "outputs": [],
   "source": [
    "#Reading the dataset\n",
    "url = \"https://archive.ics.uci.edu/ml/machine-learning-databases/00352/Online%20Retail.xlsx\"\n",
    "df = pd.read_excel(url)"
   ]
  },
  {
   "cell_type": "code",
   "execution_count": 28,
   "id": "c9860d5e",
   "metadata": {},
   "outputs": [
    {
     "data": {
      "text/html": [
       "<div>\n",
       "<style scoped>\n",
       "    .dataframe tbody tr th:only-of-type {\n",
       "        vertical-align: middle;\n",
       "    }\n",
       "\n",
       "    .dataframe tbody tr th {\n",
       "        vertical-align: top;\n",
       "    }\n",
       "\n",
       "    .dataframe thead th {\n",
       "        text-align: right;\n",
       "    }\n",
       "</style>\n",
       "<table border=\"1\" class=\"dataframe\">\n",
       "  <thead>\n",
       "    <tr style=\"text-align: right;\">\n",
       "      <th></th>\n",
       "      <th>InvoiceNo</th>\n",
       "      <th>StockCode</th>\n",
       "      <th>Description</th>\n",
       "      <th>Quantity</th>\n",
       "      <th>InvoiceDate</th>\n",
       "      <th>UnitPrice</th>\n",
       "      <th>CustomerID</th>\n",
       "      <th>Country</th>\n",
       "    </tr>\n",
       "  </thead>\n",
       "  <tbody>\n",
       "    <tr>\n",
       "      <th>0</th>\n",
       "      <td>536365</td>\n",
       "      <td>85123A</td>\n",
       "      <td>WHITE HANGING HEART T-LIGHT HOLDER</td>\n",
       "      <td>6</td>\n",
       "      <td>2010-12-01 08:26:00</td>\n",
       "      <td>2.55</td>\n",
       "      <td>17850.0</td>\n",
       "      <td>United Kingdom</td>\n",
       "    </tr>\n",
       "    <tr>\n",
       "      <th>1</th>\n",
       "      <td>536365</td>\n",
       "      <td>71053</td>\n",
       "      <td>WHITE METAL LANTERN</td>\n",
       "      <td>6</td>\n",
       "      <td>2010-12-01 08:26:00</td>\n",
       "      <td>3.39</td>\n",
       "      <td>17850.0</td>\n",
       "      <td>United Kingdom</td>\n",
       "    </tr>\n",
       "    <tr>\n",
       "      <th>2</th>\n",
       "      <td>536365</td>\n",
       "      <td>84406B</td>\n",
       "      <td>CREAM CUPID HEARTS COAT HANGER</td>\n",
       "      <td>8</td>\n",
       "      <td>2010-12-01 08:26:00</td>\n",
       "      <td>2.75</td>\n",
       "      <td>17850.0</td>\n",
       "      <td>United Kingdom</td>\n",
       "    </tr>\n",
       "    <tr>\n",
       "      <th>3</th>\n",
       "      <td>536365</td>\n",
       "      <td>84029G</td>\n",
       "      <td>KNITTED UNION FLAG HOT WATER BOTTLE</td>\n",
       "      <td>6</td>\n",
       "      <td>2010-12-01 08:26:00</td>\n",
       "      <td>3.39</td>\n",
       "      <td>17850.0</td>\n",
       "      <td>United Kingdom</td>\n",
       "    </tr>\n",
       "    <tr>\n",
       "      <th>4</th>\n",
       "      <td>536365</td>\n",
       "      <td>84029E</td>\n",
       "      <td>RED WOOLLY HOTTIE WHITE HEART.</td>\n",
       "      <td>6</td>\n",
       "      <td>2010-12-01 08:26:00</td>\n",
       "      <td>3.39</td>\n",
       "      <td>17850.0</td>\n",
       "      <td>United Kingdom</td>\n",
       "    </tr>\n",
       "  </tbody>\n",
       "</table>\n",
       "</div>"
      ],
      "text/plain": [
       "  InvoiceNo StockCode                          Description  Quantity  \\\n",
       "0    536365    85123A   WHITE HANGING HEART T-LIGHT HOLDER         6   \n",
       "1    536365     71053                  WHITE METAL LANTERN         6   \n",
       "2    536365    84406B       CREAM CUPID HEARTS COAT HANGER         8   \n",
       "3    536365    84029G  KNITTED UNION FLAG HOT WATER BOTTLE         6   \n",
       "4    536365    84029E       RED WOOLLY HOTTIE WHITE HEART.         6   \n",
       "\n",
       "          InvoiceDate  UnitPrice  CustomerID         Country  \n",
       "0 2010-12-01 08:26:00       2.55     17850.0  United Kingdom  \n",
       "1 2010-12-01 08:26:00       3.39     17850.0  United Kingdom  \n",
       "2 2010-12-01 08:26:00       2.75     17850.0  United Kingdom  \n",
       "3 2010-12-01 08:26:00       3.39     17850.0  United Kingdom  \n",
       "4 2010-12-01 08:26:00       3.39     17850.0  United Kingdom  "
      ]
     },
     "execution_count": 28,
     "metadata": {},
     "output_type": "execute_result"
    }
   ],
   "source": [
    "df.head()"
   ]
  },
  {
   "cell_type": "code",
   "execution_count": 29,
   "id": "5c54d04a",
   "metadata": {},
   "outputs": [
    {
     "data": {
      "text/plain": [
       "Index(['InvoiceNo', 'StockCode', 'Description', 'Quantity', 'InvoiceDate',\n",
       "       'UnitPrice', 'CustomerID', 'Country'],\n",
       "      dtype='object')"
      ]
     },
     "execution_count": 29,
     "metadata": {},
     "output_type": "execute_result"
    }
   ],
   "source": [
    "df.columns"
   ]
  },
  {
   "cell_type": "code",
   "execution_count": 30,
   "id": "46bd7f05",
   "metadata": {},
   "outputs": [
    {
     "data": {
      "text/plain": [
       "InvoiceNo           0\n",
       "StockCode           0\n",
       "Description      1454\n",
       "Quantity            0\n",
       "InvoiceDate         0\n",
       "UnitPrice           0\n",
       "CustomerID     135080\n",
       "Country             0\n",
       "dtype: int64"
      ]
     },
     "execution_count": 30,
     "metadata": {},
     "output_type": "execute_result"
    }
   ],
   "source": [
    "#Check the number of missing values \n",
    "df.isna().sum()"
   ]
  },
  {
   "cell_type": "code",
   "execution_count": 31,
   "id": "0524df56",
   "metadata": {},
   "outputs": [],
   "source": [
    "#Remove the rows with no customer ids\n",
    "df.dropna(subset=['CustomerID'], inplace=True)"
   ]
  },
  {
   "cell_type": "code",
   "execution_count": 32,
   "id": "b84ef2d3",
   "metadata": {},
   "outputs": [],
   "source": [
    "#Keeping only the rows with values greater than 0\n",
    "new_df = df[(df['Quantity'] > 0) & (df['UnitPrice'] > 0)]"
   ]
  },
  {
   "cell_type": "code",
   "execution_count": 33,
   "id": "f9d87820",
   "metadata": {},
   "outputs": [
    {
     "data": {
      "text/plain": [
       "InvoiceNo              object\n",
       "StockCode              object\n",
       "Description            object\n",
       "Quantity                int64\n",
       "InvoiceDate    datetime64[ns]\n",
       "UnitPrice             float64\n",
       "CustomerID            float64\n",
       "Country                object\n",
       "dtype: object"
      ]
     },
     "execution_count": 33,
     "metadata": {},
     "output_type": "execute_result"
    }
   ],
   "source": [
    "new_df.dtypes"
   ]
  },
  {
   "cell_type": "code",
   "execution_count": 34,
   "id": "a7430774",
   "metadata": {},
   "outputs": [],
   "source": [
    "#Drop duplicates\n",
    "new_df = new_df.drop_duplicates()"
   ]
  },
  {
   "cell_type": "code",
   "execution_count": 35,
   "id": "2a2ede8b",
   "metadata": {},
   "outputs": [],
   "source": [
    "#Changing the data types\n",
    "new_df['Quantity'] = new_df['Quantity'].astype(int)\n",
    "new_df['UnitPrice'] = new_df['UnitPrice'].astype(float)\n",
    "new_df['CustomerID'] = new_df['CustomerID'].astype(int, errors='ignore')"
   ]
  },
  {
   "cell_type": "code",
   "execution_count": 36,
   "id": "188337c0",
   "metadata": {},
   "outputs": [
    {
     "data": {
      "image/png": "[encoded data removed]",
      "text/plain": [
       "<Figure size 1008x576 with 1 Axes>"
      ]
     },
     "metadata": {
      "needs_background": "light"
     },
     "output_type": "display_data"
    }
   ],
   "source": [
    "#Top Countries\n",
    "top_countries = new_df['Country'].value_counts().nlargest(10)\n",
    "\n",
    "# plt.figure(figsize=(12, 6))\n",
    "# sns.barplot(x=top_countries.values, y=top_countries.index, palette='viridis')\n",
    "# plt.title('Top 10 Countries by Number of Purchases')\n",
    "# plt.xlabel('Number of Purchases')\n",
    "# plt.ylabel('Country')\n",
    "# plt.show()\n",
    "\n",
    "# Plot the Top 10 Countries using Matplotlib\n",
    "fig, ax = plt.subplots(figsize=(14, 8))\n",
    "\n",
    "bars = ax.barh(top_countries.index, top_countries.values, color='skyblue')\n",
    "ax.set_title('Top 10 Countries by Number of Purchases', fontsize=16)\n",
    "ax.set_xlabel('Number of Customers', fontsize=14)\n",
    "ax.set_ylabel('Country', fontsize=14)\n",
    "\n",
    "# Adding labels\n",
    "for bar in bars:\n",
    "    width = bar.get_width()\n",
    "    ax.annotate(f'{width}', xy=(width, bar.get_y() + bar.get_height() / 2), \n",
    "                xytext=(3, 0),  # 3 points horizontal offset\n",
    "                textcoords='offset points',\n",
    "                ha='left', va='center', fontsize=10)\n",
    "\n",
    "# Show plot\n",
    "plt.tight_layout()\n",
    "plt.show()"
   ]
  },
  {
   "cell_type": "code",
   "execution_count": 37,
   "id": "159227f4",
   "metadata": {},
   "outputs": [
    {
     "data": {
      "image/png": "[encoded data removed]",
      "text/plain": [
       "<Figure size 1008x576 with 1 Axes>"
      ]
     },
     "metadata": {
      "needs_background": "light"
     },
     "output_type": "display_data"
    }
   ],
   "source": [
    "# Number of Customers per Country\n",
    "customers_per_country = new_df.groupby('Country')['CustomerID'].nunique().nlargest(10)\n",
    "\n",
    "# Plot the Top 10 Countries using Matplotlib\n",
    "fig, ax = plt.subplots(figsize=(14, 8))\n",
    "\n",
    "bars = ax.barh(customers_per_country.index, customers_per_country.values, color='skyblue')\n",
    "ax.set_title('Top 10 Countries by Number of Unique Customers', fontsize=16)\n",
    "ax.set_xlabel('Number of Unique Customers', fontsize=14)\n",
    "ax.set_ylabel('Country', fontsize=14)\n",
    "\n",
    "# Adding labels\n",
    "for bar in bars:\n",
    "    width = bar.get_width()\n",
    "    ax.annotate(f'{width}', xy=(width, bar.get_y() + bar.get_height() / 2), \n",
    "                xytext=(3, 0),  # 3 points horizontal offset\n",
    "                textcoords='offset points',\n",
    "                ha='left', va='center', fontsize=12)\n",
    "\n",
    "# Show plot\n",
    "plt.tight_layout()\n",
    "plt.show()"
   ]
  },
  {
   "cell_type": "code",
   "execution_count": 38,
   "id": "4e41ae74",
   "metadata": {},
   "outputs": [
    {
     "data": {
      "text/html": [
       "<div>\n",
       "<style scoped>\n",
       "    .dataframe tbody tr th:only-of-type {\n",
       "        vertical-align: middle;\n",
       "    }\n",
       "\n",
       "    .dataframe tbody tr th {\n",
       "        vertical-align: top;\n",
       "    }\n",
       "\n",
       "    .dataframe thead th {\n",
       "        text-align: right;\n",
       "    }\n",
       "</style>\n",
       "<table border=\"1\" class=\"dataframe\">\n",
       "  <thead>\n",
       "    <tr style=\"text-align: right;\">\n",
       "      <th></th>\n",
       "      <th>InvoiceNo</th>\n",
       "      <th>StockCode</th>\n",
       "      <th>Description</th>\n",
       "      <th>Quantity</th>\n",
       "      <th>InvoiceDate</th>\n",
       "      <th>UnitPrice</th>\n",
       "      <th>CustomerID</th>\n",
       "      <th>Country</th>\n",
       "    </tr>\n",
       "  </thead>\n",
       "  <tbody>\n",
       "    <tr>\n",
       "      <th>0</th>\n",
       "      <td>536365</td>\n",
       "      <td>85123A</td>\n",
       "      <td>WHITE HANGING HEART T-LIGHT HOLDER</td>\n",
       "      <td>6</td>\n",
       "      <td>2010-12-01 08:26:00</td>\n",
       "      <td>2.55</td>\n",
       "      <td>17850</td>\n",
       "      <td>United Kingdom</td>\n",
       "    </tr>\n",
       "    <tr>\n",
       "      <th>1</th>\n",
       "      <td>536365</td>\n",
       "      <td>71053</td>\n",
       "      <td>WHITE METAL LANTERN</td>\n",
       "      <td>6</td>\n",
       "      <td>2010-12-01 08:26:00</td>\n",
       "      <td>3.39</td>\n",
       "      <td>17850</td>\n",
       "      <td>United Kingdom</td>\n",
       "    </tr>\n",
       "    <tr>\n",
       "      <th>2</th>\n",
       "      <td>536365</td>\n",
       "      <td>84406B</td>\n",
       "      <td>CREAM CUPID HEARTS COAT HANGER</td>\n",
       "      <td>8</td>\n",
       "      <td>2010-12-01 08:26:00</td>\n",
       "      <td>2.75</td>\n",
       "      <td>17850</td>\n",
       "      <td>United Kingdom</td>\n",
       "    </tr>\n",
       "    <tr>\n",
       "      <th>3</th>\n",
       "      <td>536365</td>\n",
       "      <td>84029G</td>\n",
       "      <td>KNITTED UNION FLAG HOT WATER BOTTLE</td>\n",
       "      <td>6</td>\n",
       "      <td>2010-12-01 08:26:00</td>\n",
       "      <td>3.39</td>\n",
       "      <td>17850</td>\n",
       "      <td>United Kingdom</td>\n",
       "    </tr>\n",
       "    <tr>\n",
       "      <th>4</th>\n",
       "      <td>536365</td>\n",
       "      <td>84029E</td>\n",
       "      <td>RED WOOLLY HOTTIE WHITE HEART.</td>\n",
       "      <td>6</td>\n",
       "      <td>2010-12-01 08:26:00</td>\n",
       "      <td>3.39</td>\n",
       "      <td>17850</td>\n",
       "      <td>United Kingdom</td>\n",
       "    </tr>\n",
       "  </tbody>\n",
       "</table>\n",
       "</div>"
      ],
      "text/plain": [
       "  InvoiceNo StockCode                          Description  Quantity  \\\n",
       "0    536365    85123A   WHITE HANGING HEART T-LIGHT HOLDER         6   \n",
       "1    536365     71053                  WHITE METAL LANTERN         6   \n",
       "2    536365    84406B       CREAM CUPID HEARTS COAT HANGER         8   \n",
       "3    536365    84029G  KNITTED UNION FLAG HOT WATER BOTTLE         6   \n",
       "4    536365    84029E       RED WOOLLY HOTTIE WHITE HEART.         6   \n",
       "\n",
       "          InvoiceDate  UnitPrice  CustomerID         Country  \n",
       "0 2010-12-01 08:26:00       2.55       17850  United Kingdom  \n",
       "1 2010-12-01 08:26:00       3.39       17850  United Kingdom  \n",
       "2 2010-12-01 08:26:00       2.75       17850  United Kingdom  \n",
       "3 2010-12-01 08:26:00       3.39       17850  United Kingdom  \n",
       "4 2010-12-01 08:26:00       3.39       17850  United Kingdom  "
      ]
     },
     "execution_count": 38,
     "metadata": {},
     "output_type": "execute_result"
    }
   ],
   "source": [
    "new_df.head()"
   ]
  },
  {
   "cell_type": "code",
   "execution_count": 39,
   "id": "e716c6ed",
   "metadata": {
    "scrolled": true
   },
   "outputs": [
    {
     "data": {
      "image/png": "[encoded data removed]",
      "text/plain": [
       "<Figure size 864x432 with 1 Axes>"
      ]
     },
     "metadata": {
      "needs_background": "light"
     },
     "output_type": "display_data"
    }
   ],
   "source": [
    "#Calculating monthly sales over time\n",
    "new_df = new_df.reset_index()\n",
    "new_df['InvoiceDate'] = pd.to_datetime(new_df['InvoiceDate'])\n",
    "new_df.set_index('InvoiceDate', inplace=True)\n",
    "sales_over_time = new_df['Quantity'].resample('M').sum()\n",
    "plt.figure(figsize=(12, 6))\n",
    "plt.plot(sales_over_time, marker='o', linestyle='-')\n",
    "plt.title('Monthly Sales Over Time', fontsize=16)\n",
    "plt.xlabel('Date', fontsize=14)\n",
    "plt.ylabel('Total Quantity Sold', fontsize=14)\n",
    "plt.grid(True)\n",
    "plt.show()"
   ]
  },
  {
   "cell_type": "code",
   "execution_count": 40,
   "id": "aaa134f6",
   "metadata": {
    "scrolled": true
   },
   "outputs": [
    {
     "data": {
      "image/png": "[encoded data removed]",
      "text/plain": [
       "<Figure size 720x432 with 1 Axes>"
      ]
     },
     "metadata": {
      "needs_background": "light"
     },
     "output_type": "display_data"
    }
   ],
   "source": [
    "#Calculating sales by day of the week\n",
    "new_df = new_df.reset_index()\n",
    "new_df['InvoiceDate'] = pd.to_datetime(new_df['InvoiceDate'])\n",
    "# print(new_df)\n",
    "new_df['DayOfWeek'] = new_df['InvoiceDate'].dt.day_name()\n",
    "new_df.set_index('InvoiceDate', inplace=True)\n",
    "sales_by_day = new_df.groupby('DayOfWeek')['Quantity'].sum().reindex(\n",
    "    ['Monday', 'Tuesday', 'Wednesday', 'Thursday', 'Friday', 'Saturday', 'Sunday'])\n",
    "plt.figure(figsize=(10, 6))\n",
    "sales_by_day.plot(kind='bar', color='skyblue')\n",
    "plt.title('Sales by Day of Week')\n",
    "plt.xlabel('Day of Week')\n",
    "plt.ylabel('Total Quantity Sold')\n",
    "plt.show()"
   ]
  },
  {
   "cell_type": "code",
   "execution_count": 41,
   "id": "836a4b30",
   "metadata": {},
   "outputs": [
    {
     "data": {
      "image/png": "[encoded data removed]",
      "text/plain": [
       "<Figure size 432x288 with 1 Axes>"
      ]
     },
     "metadata": {
      "needs_background": "light"
     },
     "output_type": "display_data"
    }
   ],
   "source": [
    "#Customer Spending Distribution: total spending per customer.\n",
    "new_df = new_df.reset_index()\n",
    "new_df['TotalSpent'] = new_df['Quantity'] * new_df['UnitPrice']\n",
    "spending_per_customer = new_df.groupby('CustomerID')['TotalSpent'].sum()\n",
    "spending_per_customer.hist(bins=20)\n",
    "plt.title('Customer Spending Distribution')\n",
    "plt.xlabel('Total Spent')\n",
    "plt.ylabel('Number of Customers')\n",
    "plt.show()"
   ]
  },
  {
   "cell_type": "code",
   "execution_count": 42,
   "id": "d07b3760",
   "metadata": {},
   "outputs": [
    {
     "data": {
      "image/png": "[encoded data removed]",
      "text/plain": [
       "<Figure size 432x288 with 1 Axes>"
      ]
     },
     "metadata": {
      "needs_background": "light"
     },
     "output_type": "display_data"
    }
   ],
   "source": [
    "#Frequency of Purchases per Customer:\n",
    "purchase_freq = new_df['CustomerID'].value_counts()\n",
    "purchase_freq.hist(bins=20)\n",
    "plt.title('Frequency of Purchases per Customer')\n",
    "plt.xlabel('Number of Purchases')\n",
    "plt.ylabel('Number of Customers')\n",
    "plt.show()"
   ]
  },
  {
   "cell_type": "code",
   "execution_count": 43,
   "id": "dc4915ce",
   "metadata": {},
   "outputs": [
    {
     "data": {
      "image/png": "[encoded data removed]",
      "text/plain": [
       "<Figure size 576x432 with 2 Axes>"
      ]
     },
     "metadata": {
      "needs_background": "light"
     },
     "output_type": "display_data"
    }
   ],
   "source": [
    "#Correlation matrix\n",
    "corr_matrix = new_df[['Quantity', 'UnitPrice']].corr()\n",
    "plt.figure(figsize=(8, 6))\n",
    "sns.heatmap(corr_matrix, annot=True, cmap='coolwarm')\n",
    "plt.title('Correlation Matrix')\n",
    "plt.show()"
   ]
  },
  {
   "cell_type": "code",
   "execution_count": 44,
   "id": "5dab2e95",
   "metadata": {},
   "outputs": [
    {
     "name": "stderr",
     "output_type": "stream",
     "text": [
      "C:\\Users\\Simran Yesukumar\\AppData\\Local\\Temp\\ipykernel_21856\\288962924.py:4: SettingWithCopyWarning: \n",
      "A value is trying to be set on a copy of a slice from a DataFrame.\n",
      "Try using .loc[row_indexer,col_indexer] = value instead\n",
      "\n",
      "See the caveats in the documentation: https://pandas.pydata.org/pandas-docs/stable/user_guide/indexing.html#returning-a-view-versus-a-copy\n",
      "  df_recent['recent_customers'] = (df_recent['InvoiceDate'] - pd.to_datetime(min(df_recent['InvoiceDate']))).dt.days\n"
     ]
    }
   ],
   "source": [
    "#Calculate the recent purchases\n",
    "new_df['rank'] = new_df.sort_values(['CustomerID','InvoiceDate']).groupby(['CustomerID'])['InvoiceDate'].rank(method='min').astype(int)\n",
    "df_recent = new_df[new_df['rank']==1]\n",
    "df_recent['recent_customers'] = (df_recent['InvoiceDate'] - pd.to_datetime(min(df_recent['InvoiceDate']))).dt.days"
   ]
  },
  {
   "cell_type": "code",
   "execution_count": 45,
   "id": "23c85763",
   "metadata": {},
   "outputs": [],
   "source": [
    "#Number of times the customer has made the purchase\n",
    "frequent_ones = df_recent.groupby('CustomerID')['InvoiceDate'].count()\n",
    "df_frequent_ones = pd.DataFrame(frequent_ones).reset_index()\n",
    "df_frequent_ones.columns = ['CustomerID','frequent']\n",
    "recent_frequent_ones = df_frequent_ones.merge(df_recent,on='CustomerID')"
   ]
  },
  {
   "cell_type": "code",
   "execution_count": 46,
   "id": "70e229be",
   "metadata": {},
   "outputs": [
    {
     "data": {
      "text/html": [
       "<div>\n",
       "<style scoped>\n",
       "    .dataframe tbody tr th:only-of-type {\n",
       "        vertical-align: middle;\n",
       "    }\n",
       "\n",
       "    .dataframe tbody tr th {\n",
       "        vertical-align: top;\n",
       "    }\n",
       "\n",
       "    .dataframe thead th {\n",
       "        text-align: right;\n",
       "    }\n",
       "</style>\n",
       "<table border=\"1\" class=\"dataframe\">\n",
       "  <thead>\n",
       "    <tr style=\"text-align: right;\">\n",
       "      <th></th>\n",
       "      <th>CustomerID</th>\n",
       "      <th>frequent</th>\n",
       "      <th>InvoiceDate</th>\n",
       "      <th>index</th>\n",
       "      <th>InvoiceNo</th>\n",
       "      <th>StockCode</th>\n",
       "      <th>Description</th>\n",
       "      <th>Quantity</th>\n",
       "      <th>UnitPrice</th>\n",
       "      <th>Country</th>\n",
       "      <th>DayOfWeek</th>\n",
       "      <th>TotalSpent</th>\n",
       "      <th>rank</th>\n",
       "      <th>recent_customers</th>\n",
       "    </tr>\n",
       "  </thead>\n",
       "  <tbody>\n",
       "    <tr>\n",
       "      <th>0</th>\n",
       "      <td>12346</td>\n",
       "      <td>1</td>\n",
       "      <td>2011-01-18 10:01:00</td>\n",
       "      <td>61619</td>\n",
       "      <td>541431</td>\n",
       "      <td>23166</td>\n",
       "      <td>MEDIUM CERAMIC TOP STORAGE JAR</td>\n",
       "      <td>74215</td>\n",
       "      <td>1.04</td>\n",
       "      <td>United Kingdom</td>\n",
       "      <td>Tuesday</td>\n",
       "      <td>77183.6</td>\n",
       "      <td>1</td>\n",
       "      <td>48</td>\n",
       "    </tr>\n",
       "    <tr>\n",
       "      <th>1</th>\n",
       "      <td>12347</td>\n",
       "      <td>31</td>\n",
       "      <td>2010-12-07 14:57:00</td>\n",
       "      <td>14938</td>\n",
       "      <td>537626</td>\n",
       "      <td>85116</td>\n",
       "      <td>BLACK CANDELABRA T-LIGHT HOLDER</td>\n",
       "      <td>12</td>\n",
       "      <td>2.10</td>\n",
       "      <td>Iceland</td>\n",
       "      <td>Tuesday</td>\n",
       "      <td>25.2</td>\n",
       "      <td>1</td>\n",
       "      <td>6</td>\n",
       "    </tr>\n",
       "    <tr>\n",
       "      <th>2</th>\n",
       "      <td>12347</td>\n",
       "      <td>31</td>\n",
       "      <td>2010-12-07 14:57:00</td>\n",
       "      <td>14939</td>\n",
       "      <td>537626</td>\n",
       "      <td>22375</td>\n",
       "      <td>AIRLINE BAG VINTAGE JET SET BROWN</td>\n",
       "      <td>4</td>\n",
       "      <td>4.25</td>\n",
       "      <td>Iceland</td>\n",
       "      <td>Tuesday</td>\n",
       "      <td>17.0</td>\n",
       "      <td>1</td>\n",
       "      <td>6</td>\n",
       "    </tr>\n",
       "    <tr>\n",
       "      <th>3</th>\n",
       "      <td>12347</td>\n",
       "      <td>31</td>\n",
       "      <td>2010-12-07 14:57:00</td>\n",
       "      <td>14940</td>\n",
       "      <td>537626</td>\n",
       "      <td>71477</td>\n",
       "      <td>COLOUR GLASS. STAR T-LIGHT HOLDER</td>\n",
       "      <td>12</td>\n",
       "      <td>3.25</td>\n",
       "      <td>Iceland</td>\n",
       "      <td>Tuesday</td>\n",
       "      <td>39.0</td>\n",
       "      <td>1</td>\n",
       "      <td>6</td>\n",
       "    </tr>\n",
       "    <tr>\n",
       "      <th>4</th>\n",
       "      <td>12347</td>\n",
       "      <td>31</td>\n",
       "      <td>2010-12-07 14:57:00</td>\n",
       "      <td>14941</td>\n",
       "      <td>537626</td>\n",
       "      <td>22492</td>\n",
       "      <td>MINI PAINT SET VINTAGE</td>\n",
       "      <td>36</td>\n",
       "      <td>0.65</td>\n",
       "      <td>Iceland</td>\n",
       "      <td>Tuesday</td>\n",
       "      <td>23.4</td>\n",
       "      <td>1</td>\n",
       "      <td>6</td>\n",
       "    </tr>\n",
       "  </tbody>\n",
       "</table>\n",
       "</div>"
      ],
      "text/plain": [
       "   CustomerID  frequent         InvoiceDate  index InvoiceNo StockCode  \\\n",
       "0       12346         1 2011-01-18 10:01:00  61619    541431     23166   \n",
       "1       12347        31 2010-12-07 14:57:00  14938    537626     85116   \n",
       "2       12347        31 2010-12-07 14:57:00  14939    537626     22375   \n",
       "3       12347        31 2010-12-07 14:57:00  14940    537626     71477   \n",
       "4       12347        31 2010-12-07 14:57:00  14941    537626     22492   \n",
       "\n",
       "                         Description  Quantity  UnitPrice         Country  \\\n",
       "0     MEDIUM CERAMIC TOP STORAGE JAR     74215       1.04  United Kingdom   \n",
       "1    BLACK CANDELABRA T-LIGHT HOLDER        12       2.10         Iceland   \n",
       "2  AIRLINE BAG VINTAGE JET SET BROWN         4       4.25         Iceland   \n",
       "3  COLOUR GLASS. STAR T-LIGHT HOLDER        12       3.25         Iceland   \n",
       "4            MINI PAINT SET VINTAGE         36       0.65         Iceland   \n",
       "\n",
       "  DayOfWeek  TotalSpent  rank  recent_customers  \n",
       "0   Tuesday     77183.6     1                48  \n",
       "1   Tuesday        25.2     1                 6  \n",
       "2   Tuesday        17.0     1                 6  \n",
       "3   Tuesday        39.0     1                 6  \n",
       "4   Tuesday        23.4     1                 6  "
      ]
     },
     "execution_count": 46,
     "metadata": {},
     "output_type": "execute_result"
    }
   ],
   "source": [
    "recent_frequent_ones.head()"
   ]
  },
  {
   "cell_type": "code",
   "execution_count": 47,
   "id": "d9c0a542",
   "metadata": {},
   "outputs": [],
   "source": [
    "#Total amount spent by the customer\n",
    "recent_frequent_ones['total'] = recent_frequent_ones['Quantity']*new_df['UnitPrice']\n",
    "total_amount_spent = recent_frequent_ones.groupby('CustomerID')['total'].sum()\n",
    "total_amount_spent = pd.DataFrame(total_amount_spent).reset_index()\n",
    "total_amount_spent.columns = ['CustomerID','Total Amount Spent']\n",
    "recent_frequent_total_amount= total_amount_spent.merge(recent_frequent_ones,on='CustomerID')"
   ]
  },
  {
   "cell_type": "code",
   "execution_count": 48,
   "id": "643bfa48",
   "metadata": {},
   "outputs": [
    {
     "data": {
      "text/html": [
       "<div>\n",
       "<style scoped>\n",
       "    .dataframe tbody tr th:only-of-type {\n",
       "        vertical-align: middle;\n",
       "    }\n",
       "\n",
       "    .dataframe tbody tr th {\n",
       "        vertical-align: top;\n",
       "    }\n",
       "\n",
       "    .dataframe thead th {\n",
       "        text-align: right;\n",
       "    }\n",
       "</style>\n",
       "<table border=\"1\" class=\"dataframe\">\n",
       "  <thead>\n",
       "    <tr style=\"text-align: right;\">\n",
       "      <th></th>\n",
       "      <th>CustomerID</th>\n",
       "      <th>Total Amount Spent</th>\n",
       "      <th>frequent</th>\n",
       "      <th>InvoiceDate</th>\n",
       "      <th>index</th>\n",
       "      <th>InvoiceNo</th>\n",
       "      <th>StockCode</th>\n",
       "      <th>Description</th>\n",
       "      <th>Quantity</th>\n",
       "      <th>UnitPrice</th>\n",
       "      <th>Country</th>\n",
       "      <th>DayOfWeek</th>\n",
       "      <th>TotalSpent</th>\n",
       "      <th>rank</th>\n",
       "      <th>recent_customers</th>\n",
       "      <th>total</th>\n",
       "    </tr>\n",
       "  </thead>\n",
       "  <tbody>\n",
       "    <tr>\n",
       "      <th>0</th>\n",
       "      <td>12346</td>\n",
       "      <td>189248.25</td>\n",
       "      <td>1</td>\n",
       "      <td>2011-01-18 10:01:00</td>\n",
       "      <td>61619</td>\n",
       "      <td>541431</td>\n",
       "      <td>23166</td>\n",
       "      <td>MEDIUM CERAMIC TOP STORAGE JAR</td>\n",
       "      <td>74215</td>\n",
       "      <td>1.04</td>\n",
       "      <td>United Kingdom</td>\n",
       "      <td>Tuesday</td>\n",
       "      <td>77183.6</td>\n",
       "      <td>1</td>\n",
       "      <td>48</td>\n",
       "      <td>189248.25</td>\n",
       "    </tr>\n",
       "    <tr>\n",
       "      <th>1</th>\n",
       "      <td>12347</td>\n",
       "      <td>1246.73</td>\n",
       "      <td>31</td>\n",
       "      <td>2010-12-07 14:57:00</td>\n",
       "      <td>14938</td>\n",
       "      <td>537626</td>\n",
       "      <td>85116</td>\n",
       "      <td>BLACK CANDELABRA T-LIGHT HOLDER</td>\n",
       "      <td>12</td>\n",
       "      <td>2.10</td>\n",
       "      <td>Iceland</td>\n",
       "      <td>Tuesday</td>\n",
       "      <td>25.2</td>\n",
       "      <td>1</td>\n",
       "      <td>6</td>\n",
       "      <td>40.68</td>\n",
       "    </tr>\n",
       "    <tr>\n",
       "      <th>2</th>\n",
       "      <td>12347</td>\n",
       "      <td>1246.73</td>\n",
       "      <td>31</td>\n",
       "      <td>2010-12-07 14:57:00</td>\n",
       "      <td>14939</td>\n",
       "      <td>537626</td>\n",
       "      <td>22375</td>\n",
       "      <td>AIRLINE BAG VINTAGE JET SET BROWN</td>\n",
       "      <td>4</td>\n",
       "      <td>4.25</td>\n",
       "      <td>Iceland</td>\n",
       "      <td>Tuesday</td>\n",
       "      <td>17.0</td>\n",
       "      <td>1</td>\n",
       "      <td>6</td>\n",
       "      <td>11.00</td>\n",
       "    </tr>\n",
       "    <tr>\n",
       "      <th>3</th>\n",
       "      <td>12347</td>\n",
       "      <td>1246.73</td>\n",
       "      <td>31</td>\n",
       "      <td>2010-12-07 14:57:00</td>\n",
       "      <td>14940</td>\n",
       "      <td>537626</td>\n",
       "      <td>71477</td>\n",
       "      <td>COLOUR GLASS. STAR T-LIGHT HOLDER</td>\n",
       "      <td>12</td>\n",
       "      <td>3.25</td>\n",
       "      <td>Iceland</td>\n",
       "      <td>Tuesday</td>\n",
       "      <td>39.0</td>\n",
       "      <td>1</td>\n",
       "      <td>6</td>\n",
       "      <td>40.68</td>\n",
       "    </tr>\n",
       "    <tr>\n",
       "      <th>4</th>\n",
       "      <td>12347</td>\n",
       "      <td>1246.73</td>\n",
       "      <td>31</td>\n",
       "      <td>2010-12-07 14:57:00</td>\n",
       "      <td>14941</td>\n",
       "      <td>537626</td>\n",
       "      <td>22492</td>\n",
       "      <td>MINI PAINT SET VINTAGE</td>\n",
       "      <td>36</td>\n",
       "      <td>0.65</td>\n",
       "      <td>Iceland</td>\n",
       "      <td>Tuesday</td>\n",
       "      <td>23.4</td>\n",
       "      <td>1</td>\n",
       "      <td>6</td>\n",
       "      <td>122.04</td>\n",
       "    </tr>\n",
       "  </tbody>\n",
       "</table>\n",
       "</div>"
      ],
      "text/plain": [
       "   CustomerID  Total Amount Spent  frequent         InvoiceDate  index  \\\n",
       "0       12346           189248.25         1 2011-01-18 10:01:00  61619   \n",
       "1       12347             1246.73        31 2010-12-07 14:57:00  14938   \n",
       "2       12347             1246.73        31 2010-12-07 14:57:00  14939   \n",
       "3       12347             1246.73        31 2010-12-07 14:57:00  14940   \n",
       "4       12347             1246.73        31 2010-12-07 14:57:00  14941   \n",
       "\n",
       "  InvoiceNo StockCode                        Description  Quantity  UnitPrice  \\\n",
       "0    541431     23166     MEDIUM CERAMIC TOP STORAGE JAR     74215       1.04   \n",
       "1    537626     85116    BLACK CANDELABRA T-LIGHT HOLDER        12       2.10   \n",
       "2    537626     22375  AIRLINE BAG VINTAGE JET SET BROWN         4       4.25   \n",
       "3    537626     71477  COLOUR GLASS. STAR T-LIGHT HOLDER        12       3.25   \n",
       "4    537626     22492            MINI PAINT SET VINTAGE         36       0.65   \n",
       "\n",
       "          Country DayOfWeek  TotalSpent  rank  recent_customers      total  \n",
       "0  United Kingdom   Tuesday     77183.6     1                48  189248.25  \n",
       "1         Iceland   Tuesday        25.2     1                 6      40.68  \n",
       "2         Iceland   Tuesday        17.0     1                 6      11.00  \n",
       "3         Iceland   Tuesday        39.0     1                 6      40.68  \n",
       "4         Iceland   Tuesday        23.4     1                 6     122.04  "
      ]
     },
     "execution_count": 48,
     "metadata": {},
     "output_type": "execute_result"
    }
   ],
   "source": [
    "recent_frequent_total_amount.head()"
   ]
  },
  {
   "cell_type": "code",
   "execution_count": 49,
   "id": "889ca99f",
   "metadata": {},
   "outputs": [
    {
     "data": {
      "text/plain": [
       "Index(['CustomerID', 'Total Amount Spent', 'frequent', 'InvoiceDate', 'index',\n",
       "       'InvoiceNo', 'StockCode', 'Description', 'Quantity', 'UnitPrice',\n",
       "       'Country', 'DayOfWeek', 'TotalSpent', 'rank', 'recent_customers',\n",
       "       'total'],\n",
       "      dtype='object')"
      ]
     },
     "execution_count": 49,
     "metadata": {},
     "output_type": "execute_result"
    }
   ],
   "source": [
    "recent_frequent_total_amount.columns"
   ]
  },
  {
   "cell_type": "code",
   "execution_count": 50,
   "id": "57ab480e",
   "metadata": {},
   "outputs": [],
   "source": [
    "model_data = recent_frequent_total_amount[['CustomerID', 'Total Amount Spent', 'frequent','recent_customers']]"
   ]
  },
  {
   "cell_type": "code",
   "execution_count": 51,
   "id": "16e22ff4",
   "metadata": {},
   "outputs": [
    {
     "data": {
      "text/html": [
       "<div>\n",
       "<style scoped>\n",
       "    .dataframe tbody tr th:only-of-type {\n",
       "        vertical-align: middle;\n",
       "    }\n",
       "\n",
       "    .dataframe tbody tr th {\n",
       "        vertical-align: top;\n",
       "    }\n",
       "\n",
       "    .dataframe thead th {\n",
       "        text-align: right;\n",
       "    }\n",
       "</style>\n",
       "<table border=\"1\" class=\"dataframe\">\n",
       "  <thead>\n",
       "    <tr style=\"text-align: right;\">\n",
       "      <th></th>\n",
       "      <th>CustomerID</th>\n",
       "      <th>Total Amount Spent</th>\n",
       "      <th>frequent</th>\n",
       "      <th>recent_customers</th>\n",
       "    </tr>\n",
       "  </thead>\n",
       "  <tbody>\n",
       "    <tr>\n",
       "      <th>0</th>\n",
       "      <td>12346</td>\n",
       "      <td>189248.25</td>\n",
       "      <td>1</td>\n",
       "      <td>48</td>\n",
       "    </tr>\n",
       "    <tr>\n",
       "      <th>1</th>\n",
       "      <td>12347</td>\n",
       "      <td>1246.73</td>\n",
       "      <td>31</td>\n",
       "      <td>6</td>\n",
       "    </tr>\n",
       "  </tbody>\n",
       "</table>\n",
       "</div>"
      ],
      "text/plain": [
       "   CustomerID  Total Amount Spent  frequent  recent_customers\n",
       "0       12346           189248.25         1                48\n",
       "1       12347             1246.73        31                 6"
      ]
     },
     "execution_count": 51,
     "metadata": {},
     "output_type": "execute_result"
    }
   ],
   "source": [
    "model_data.head(2)"
   ]
  },
  {
   "cell_type": "code",
   "execution_count": 52,
   "id": "4f384193",
   "metadata": {},
   "outputs": [],
   "source": [
    "#Standardization of the values\n",
    "from sklearn.preprocessing import StandardScaler\n",
    "model_data = model_data.drop_duplicates()\n",
    "col_names = ['Total Amount Spent', 'frequent','recent_customers']\n",
    "features = model_data[col_names]\n",
    "scaler = StandardScaler().fit(features.values)\n",
    "features = scaler.transform(features.values)\n",
    "scaled_features = pd.DataFrame(features, columns = col_names)"
   ]
  },
  {
   "cell_type": "code",
   "execution_count": 53,
   "id": "ed152973",
   "metadata": {},
   "outputs": [],
   "source": [
    "# import pandas as pd\n",
    "# from sklearn.preprocessing import StandardScaler\n",
    "\n",
    "# # Assuming model_data is already loaded and contains valid data\n",
    "# # model_data = pd.read_csv('your_data.csv')  # Replace with your data loading logic\n",
    "\n",
    "# # Drop duplicates if any\n",
    "# model_data = model_data.drop_duplicates()\n",
    "\n",
    "# # Check if model_data is properly initialized and not None\n",
    "# if model_data is not None and not model_data.empty:\n",
    "#     col_names = ['recent_customers', 'frequency', 'monetary_value']\n",
    "#     features = model_data[col_names]\n",
    "    \n",
    "#     # Initialize StandardScaler and fit-transform\n",
    "#     scaler = StandardScaler()\n",
    "#     scaled_features = scaler.fit_transform(features)\n",
    "    \n",
    "#     # Convert scaled_features array back to DataFrame with column names\n",
    "#     scaled_features_df = pd.DataFrame(scaled_features, columns=col_names)\n",
    "    \n",
    "#     # Optionally, you can assign scaled_features_df back to model_data or use it for further analysis\n",
    "    \n",
    "#     print(\"Standard scaling completed successfully.\")\n",
    "# else:\n",
    "#     print(\"Error: model_data is None or empty. Please check your data loading process.\")"
   ]
  },
  {
   "cell_type": "code",
   "execution_count": 58,
   "id": "31a464fb",
   "metadata": {},
   "outputs": [],
   "source": [
    "kmeans_algo = KMeans(n_clusters=4, n_init=10, random_state=42)\n",
    "model_data['Cluster'] = kmeans_algo.fit_predict(scaled_features)"
   ]
  },
  {
   "cell_type": "code",
   "execution_count": 59,
   "id": "b58d2603",
   "metadata": {},
   "outputs": [
    {
     "data": {
      "text/plain": [
       "0.3652204356550734"
      ]
     },
     "execution_count": 59,
     "metadata": {},
     "output_type": "execute_result"
    }
   ],
   "source": [
    "silhouette_score(scaled_features, kmeans.labels_, metric='euclidean')"
   ]
  },
  {
   "cell_type": "code",
   "execution_count": 60,
   "id": "c111bcef",
   "metadata": {
    "scrolled": true
   },
   "outputs": [
    {
     "data": {
      "text/html": [
       "<div>\n",
       "<style scoped>\n",
       "    .dataframe tbody tr th:only-of-type {\n",
       "        vertical-align: middle;\n",
       "    }\n",
       "\n",
       "    .dataframe tbody tr th {\n",
       "        vertical-align: top;\n",
       "    }\n",
       "\n",
       "    .dataframe thead th {\n",
       "        text-align: right;\n",
       "    }\n",
       "</style>\n",
       "<table border=\"1\" class=\"dataframe\">\n",
       "  <thead>\n",
       "    <tr style=\"text-align: right;\">\n",
       "      <th></th>\n",
       "      <th>CustomerID</th>\n",
       "      <th>Total Amount Spent</th>\n",
       "      <th>frequent</th>\n",
       "      <th>recent_customers</th>\n",
       "      <th>Cluster</th>\n",
       "    </tr>\n",
       "  </thead>\n",
       "  <tbody>\n",
       "    <tr>\n",
       "      <th>0</th>\n",
       "      <td>12346</td>\n",
       "      <td>189248.25</td>\n",
       "      <td>1</td>\n",
       "      <td>48</td>\n",
       "      <td>3</td>\n",
       "    </tr>\n",
       "    <tr>\n",
       "      <th>1</th>\n",
       "      <td>12347</td>\n",
       "      <td>1246.73</td>\n",
       "      <td>31</td>\n",
       "      <td>6</td>\n",
       "      <td>0</td>\n",
       "    </tr>\n",
       "    <tr>\n",
       "      <th>32</th>\n",
       "      <td>12348</td>\n",
       "      <td>4311.90</td>\n",
       "      <td>17</td>\n",
       "      <td>15</td>\n",
       "      <td>0</td>\n",
       "    </tr>\n",
       "    <tr>\n",
       "      <th>49</th>\n",
       "      <td>12349</td>\n",
       "      <td>1618.81</td>\n",
       "      <td>73</td>\n",
       "      <td>355</td>\n",
       "      <td>1</td>\n",
       "    </tr>\n",
       "    <tr>\n",
       "      <th>122</th>\n",
       "      <td>12350</td>\n",
       "      <td>553.25</td>\n",
       "      <td>17</td>\n",
       "      <td>63</td>\n",
       "      <td>0</td>\n",
       "    </tr>\n",
       "  </tbody>\n",
       "</table>\n",
       "</div>"
      ],
      "text/plain": [
       "     CustomerID  Total Amount Spent  frequent  recent_customers  Cluster\n",
       "0         12346           189248.25         1                48        3\n",
       "1         12347             1246.73        31                 6        0\n",
       "32        12348             4311.90        17                15        0\n",
       "49        12349             1618.81        73               355        1\n",
       "122       12350              553.25        17                63        0"
      ]
     },
     "execution_count": 60,
     "metadata": {},
     "output_type": "execute_result"
    }
   ],
   "source": [
    "# # Now that we have built our segmentation model, we need to assign clusters to each customer in the dataset:\n",
    "# pred = kmeans.predict(scaled_features)\n",
    "# frame = pd.DataFrame(model_data)\n",
    "# frame['cluster'] = pred\n",
    "model_data.head()"
   ]
  },
  {
   "cell_type": "code",
   "execution_count": 62,
   "id": "92400a52",
   "metadata": {
    "scrolled": true
   },
   "outputs": [],
   "source": [
    "# custom bin for Recent, Frequent ones, and Total amount spent\n",
    "recent_bins = [model_data['recent_customers'].min()-1, 20, 50, 150, 250, model_data['recent_customers'].max()]\n",
    "frequent_bins = [model_data['frequent'].min() - 1, 2, 3, 10, 100, model_data['frequent'].max()]\n",
    "total_spent_bins = [model_data['Total Amount Spent'].min() - 3, 300, 600, 2000, 5000, model_data['Total Amount Spent'].max()]\n",
    "model_data['R_Score'] = pd.cut(model_data['recent_customers'], bins=recent_bins, labels=range(1, 6), include_lowest=True)\n",
    "model_data['R_Score'] = 5 - model_data['R_Score'].astype(int) + 1\n",
    "model_data['F_Score'] = pd.cut(model_data['frequent'], bins=frequent_bins, labels=range(1, 6), include_lowest=True).astype(int)\n",
    "model_data['M_Score'] = pd.cut(model_data['Total Amount Spent'], bins=total_spent_bins, labels=range(1, 6), include_lowest=True).astype(int)"
   ]
  },
  {
   "cell_type": "code",
   "execution_count": 63,
   "id": "0522993b",
   "metadata": {},
   "outputs": [
    {
     "data": {
      "text/html": [
       "<div>\n",
       "<style scoped>\n",
       "    .dataframe tbody tr th:only-of-type {\n",
       "        vertical-align: middle;\n",
       "    }\n",
       "\n",
       "    .dataframe tbody tr th {\n",
       "        vertical-align: top;\n",
       "    }\n",
       "\n",
       "    .dataframe thead th {\n",
       "        text-align: right;\n",
       "    }\n",
       "</style>\n",
       "<table border=\"1\" class=\"dataframe\">\n",
       "  <thead>\n",
       "    <tr style=\"text-align: right;\">\n",
       "      <th></th>\n",
       "      <th>CustomerID</th>\n",
       "      <th>Total Amount Spent</th>\n",
       "      <th>frequent</th>\n",
       "      <th>recent_customers</th>\n",
       "      <th>Cluster</th>\n",
       "      <th>R_Score</th>\n",
       "      <th>F_Score</th>\n",
       "      <th>M_Score</th>\n",
       "    </tr>\n",
       "  </thead>\n",
       "  <tbody>\n",
       "    <tr>\n",
       "      <th>0</th>\n",
       "      <td>12346</td>\n",
       "      <td>189248.25</td>\n",
       "      <td>1</td>\n",
       "      <td>48</td>\n",
       "      <td>3</td>\n",
       "      <td>4</td>\n",
       "      <td>1</td>\n",
       "      <td>5</td>\n",
       "    </tr>\n",
       "    <tr>\n",
       "      <th>1</th>\n",
       "      <td>12347</td>\n",
       "      <td>1246.73</td>\n",
       "      <td>31</td>\n",
       "      <td>6</td>\n",
       "      <td>0</td>\n",
       "      <td>5</td>\n",
       "      <td>4</td>\n",
       "      <td>3</td>\n",
       "    </tr>\n",
       "  </tbody>\n",
       "</table>\n",
       "</div>"
      ],
      "text/plain": [
       "   CustomerID  Total Amount Spent  frequent  recent_customers  Cluster  \\\n",
       "0       12346           189248.25         1                48        3   \n",
       "1       12347             1246.73        31                 6        0   \n",
       "\n",
       "   R_Score  F_Score  M_Score  \n",
       "0        4        1        5  \n",
       "1        5        4        3  "
      ]
     },
     "execution_count": 63,
     "metadata": {},
     "output_type": "execute_result"
    }
   ],
   "source": [
    "model_data.head(2)"
   ]
  },
  {
   "cell_type": "code",
   "execution_count": 64,
   "id": "a263a3b2",
   "metadata": {},
   "outputs": [
    {
     "data": {
      "image/png": "[encoded data removed]",
      "text/plain": [
       "<Figure size 600x400 with 1 Axes>"
      ]
     },
     "metadata": {
      "needs_background": "light"
     },
     "output_type": "display_data"
    }
   ],
   "source": [
    "X = model_data[['R_Score', 'F_Score', 'M_Score']]\n",
    "cluster_ranges = []\n",
    "for k in range(2, 11):\n",
    "    kmeans = KMeans(n_clusters=k, n_init= 10, random_state=42)\n",
    "    kmeans.fit(scaled_features)\n",
    "    cluster_ranges.append(kmeans.inertia_)\n",
    "\n",
    "# Plot the elbow curve\n",
    "plt.figure(figsize=(6, 4),dpi=100)\n",
    "plt.plot(range(2, 11), cluster_ranges, marker='o')\n",
    "plt.xlabel('Number of Clusters (k)')\n",
    "plt.ylabel('Sum of Squared distances')\n",
    "plt.title('Elbow Curve')\n",
    "plt.show()"
   ]
  },
  {
   "cell_type": "code",
   "execution_count": 65,
   "id": "03f0f264",
   "metadata": {},
   "outputs": [],
   "source": [
    "kmeans_algo = KMeans(n_clusters=4, n_init=10, random_state=42)\n",
    "model_data['Cluster'] = kmeans_algo.fit_predict(X)"
   ]
  },
  {
   "cell_type": "code",
   "execution_count": 66,
   "id": "9992d1f9",
   "metadata": {
    "scrolled": true
   },
   "outputs": [],
   "source": [
    "# Group by cluster\n",
    "cluster_avg = model_data.groupby('Cluster').agg({'R_Score': 'mean','F_Score': 'mean','M_Score': 'mean'}).reset_index()"
   ]
  },
  {
   "cell_type": "code",
   "execution_count": 67,
   "id": "6a8da68c",
   "metadata": {},
   "outputs": [
    {
     "data": {
      "text/html": [
       "<div>\n",
       "<style scoped>\n",
       "    .dataframe tbody tr th:only-of-type {\n",
       "        vertical-align: middle;\n",
       "    }\n",
       "\n",
       "    .dataframe tbody tr th {\n",
       "        vertical-align: top;\n",
       "    }\n",
       "\n",
       "    .dataframe thead th {\n",
       "        text-align: right;\n",
       "    }\n",
       "</style>\n",
       "<table border=\"1\" class=\"dataframe\">\n",
       "  <thead>\n",
       "    <tr style=\"text-align: right;\">\n",
       "      <th></th>\n",
       "      <th>Cluster</th>\n",
       "      <th>R_Score</th>\n",
       "      <th>F_Score</th>\n",
       "      <th>M_Score</th>\n",
       "    </tr>\n",
       "  </thead>\n",
       "  <tbody>\n",
       "    <tr>\n",
       "      <th>0</th>\n",
       "      <td>0</td>\n",
       "      <td>2.547790</td>\n",
       "      <td>2.892086</td>\n",
       "      <td>1.130524</td>\n",
       "    </tr>\n",
       "    <tr>\n",
       "      <th>1</th>\n",
       "      <td>1</td>\n",
       "      <td>2.828696</td>\n",
       "      <td>3.926957</td>\n",
       "      <td>2.954783</td>\n",
       "    </tr>\n",
       "    <tr>\n",
       "      <th>2</th>\n",
       "      <td>2</td>\n",
       "      <td>1.121061</td>\n",
       "      <td>3.834992</td>\n",
       "      <td>2.203980</td>\n",
       "    </tr>\n",
       "    <tr>\n",
       "      <th>3</th>\n",
       "      <td>3</td>\n",
       "      <td>4.855302</td>\n",
       "      <td>3.494549</td>\n",
       "      <td>1.888999</td>\n",
       "    </tr>\n",
       "  </tbody>\n",
       "</table>\n",
       "</div>"
      ],
      "text/plain": [
       "   Cluster   R_Score   F_Score   M_Score\n",
       "0        0  2.547790  2.892086  1.130524\n",
       "1        1  2.828696  3.926957  2.954783\n",
       "2        2  1.121061  3.834992  2.203980\n",
       "3        3  4.855302  3.494549  1.888999"
      ]
     },
     "execution_count": 67,
     "metadata": {},
     "output_type": "execute_result"
    }
   ],
   "source": [
    "cluster_avg"
   ]
  },
  {
   "cell_type": "code",
   "execution_count": 90,
   "id": "8b02c5de",
   "metadata": {},
   "outputs": [
    {
     "data": {
      "image/png": "[encoded data removed]",
      "text/plain": [
       "<Figure size 400x600 with 1 Axes>"
      ]
     },
     "metadata": {},
     "output_type": "display_data"
    }
   ],
   "source": [
    "# Count the number of customers in each cluster\n",
    "cluster_count = model_data['Cluster'].value_counts()\n",
    "# colors and labels for the pie chart\n",
    "colors = ['#3498db', '#2ecc71', '#f39c12', '#C9B1BD']\n",
    "labels = ['Highest shopping customers', 'Second highest shoppers', 'Not Buying often', 'Recent customers']\n",
    "# total, percentage of customers in each cluster\n",
    "total_cust = cluster_count.sum()\n",
    "percentage_cust = (cluster_counts / total_cust) * 100\n",
    "# Output the total and percentage of customers\n",
    "# print(f\"Total Customers: {total_customers}\")\n",
    "# print(f\"Percentage of Customers in Each Cluster:\\n{percentage_customers}\")\n",
    "# Create and display the pie chart\n",
    "plt.figure(figsize=(4,6), dpi=100)\n",
    "plt.pie(percentage_cust, labels=labels, autopct='%1.1f%%', startangle=50, colors=colors)\n",
    "plt.title('% of Customers in Each Cluster')\n",
    "plt.legend(labels, title='Cluster',loc=\"right\",prop={'size': 8},bbox_to_anchor=(2, 0.5))\n",
    "plt.show()"
   ]
  },
  {
   "cell_type": "code",
   "execution_count": null,
   "id": "5574a661",
   "metadata": {},
   "outputs": [],
   "source": []
  },
  {
   "cell_type": "code",
   "execution_count": null,
   "id": "2f3d4899",
   "metadata": {},
   "outputs": [],
   "source": []
  },
  {
   "cell_type": "code",
   "execution_count": null,
   "id": "b01098f8",
   "metadata": {},
   "outputs": [],
   "source": []
  },
  {
   "cell_type": "code",
   "execution_count": null,
   "id": "9049a33f",
   "metadata": {},
   "outputs": [],
   "source": []
  },
  {
   "cell_type": "code",
   "execution_count": null,
   "id": "9ccc0714",
   "metadata": {},
   "outputs": [],
   "source": []
  },
  {
   "cell_type": "code",
   "execution_count": null,
   "id": "42d92be1",
   "metadata": {},
   "outputs": [],
   "source": []
  },
  {
   "cell_type": "code",
   "execution_count": null,
   "id": "afd5a6e3",
   "metadata": {},
   "outputs": [],
   "source": []
  },
  {
   "cell_type": "code",
   "execution_count": null,
   "id": "d2600c67",
   "metadata": {},
   "outputs": [],
   "source": []
  }
 ],
 "metadata": {
  "kernelspec": {
   "display_name": "Python 3 (ipykernel)",
   "language": "python",
   "name": "python3"
  },
  "language_info": {
   "codemirror_mode": {
    "name": "ipython",
    "version": 3
   },
   "file_extension": ".py",
   "mimetype": "text/x-python",
   "name": "python",
   "nbconvert_exporter": "python",
   "pygments_lexer": "ipython3",
   "version": "3.9.12"
  }
 },
 "nbformat": 4,
 "nbformat_minor": 5
}
