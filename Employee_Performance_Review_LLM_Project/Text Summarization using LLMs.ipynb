{
 "cells": [
  {
   "cell_type": "code",
   "execution_count": 87,
   "id": "fc45c812",
   "metadata": {},
   "outputs": [],
   "source": [
    "import pandas as pd\n",
    "import matplotlib.pyplot as plt \n",
    "from matplotlib import rcParams\n",
    "import seaborn as sns\n",
    "\n",
    "%matplotlib inline"
   ]
  },
  {
   "cell_type": "code",
   "execution_count": 88,
   "id": "a4010057",
   "metadata": {},
   "outputs": [],
   "source": [
    "review_dataset = pd.read_csv(\"employee_review_mturk_dataset_v10_kaggle.csv\")"
   ]
  },
  {
   "cell_type": "code",
   "execution_count": 89,
   "id": "74f6b848",
   "metadata": {},
   "outputs": [
    {
     "data": {
      "text/plain": [
       "Index(['id', 'person_name', 'nine_box_category', 'feedback', 'adjusted',\n",
       "       'reviewed'],\n",
       "      dtype='object')"
      ]
     },
     "execution_count": 89,
     "metadata": {},
     "output_type": "execute_result"
    }
   ],
   "source": [
    "review_dataset.columns"
   ]
  },
  {
   "cell_type": "code",
   "execution_count": 90,
   "id": "c8ab9754",
   "metadata": {},
   "outputs": [
    {
     "data": {
      "text/html": [
       "<div>\n",
       "<style scoped>\n",
       "    .dataframe tbody tr th:only-of-type {\n",
       "        vertical-align: middle;\n",
       "    }\n",
       "\n",
       "    .dataframe tbody tr th {\n",
       "        vertical-align: top;\n",
       "    }\n",
       "\n",
       "    .dataframe thead th {\n",
       "        text-align: right;\n",
       "    }\n",
       "</style>\n",
       "<table border=\"1\" class=\"dataframe\">\n",
       "  <thead>\n",
       "    <tr style=\"text-align: right;\">\n",
       "      <th></th>\n",
       "      <th>id</th>\n",
       "      <th>person_name</th>\n",
       "      <th>nine_box_category</th>\n",
       "      <th>feedback</th>\n",
       "      <th>adjusted</th>\n",
       "      <th>reviewed</th>\n",
       "    </tr>\n",
       "  </thead>\n",
       "  <tbody>\n",
       "    <tr>\n",
       "      <th>0</th>\n",
       "      <td>1</td>\n",
       "      <td>John Doe</td>\n",
       "      <td>Category 1: 'Risk' (Low performance, Low poten...</td>\n",
       "      <td>John has not progressed in his position. He is...</td>\n",
       "      <td>False</td>\n",
       "      <td>True</td>\n",
       "    </tr>\n",
       "    <tr>\n",
       "      <th>1</th>\n",
       "      <td>2</td>\n",
       "      <td>John Doe</td>\n",
       "      <td>Category 1: 'Risk' (Low performance, Low poten...</td>\n",
       "      <td>John has consistently disappointed me this qua...</td>\n",
       "      <td>False</td>\n",
       "      <td>True</td>\n",
       "    </tr>\n",
       "  </tbody>\n",
       "</table>\n",
       "</div>"
      ],
      "text/plain": [
       "   id person_name                                  nine_box_category  \\\n",
       "0   1    John Doe  Category 1: 'Risk' (Low performance, Low poten...   \n",
       "1   2    John Doe  Category 1: 'Risk' (Low performance, Low poten...   \n",
       "\n",
       "                                            feedback  adjusted  reviewed  \n",
       "0  John has not progressed in his position. He is...     False      True  \n",
       "1  John has consistently disappointed me this qua...     False      True  "
      ]
     },
     "execution_count": 90,
     "metadata": {},
     "output_type": "execute_result"
    }
   ],
   "source": [
    "review_dataset.head(2)"
   ]
  },
  {
   "cell_type": "code",
   "execution_count": 91,
   "id": "f2f502e5",
   "metadata": {
    "scrolled": true
   },
   "outputs": [],
   "source": [
    "# review_dataset[['Performance Category','Potential Category']] = review_dataset['nine_box_category'].str.split(',', expand=True)"
   ]
  },
  {
   "cell_type": "code",
   "execution_count": 92,
   "id": "1cd31af2",
   "metadata": {},
   "outputs": [
    {
     "data": {
      "text/html": [
       "<div>\n",
       "<style scoped>\n",
       "    .dataframe tbody tr th:only-of-type {\n",
       "        vertical-align: middle;\n",
       "    }\n",
       "\n",
       "    .dataframe tbody tr th {\n",
       "        vertical-align: top;\n",
       "    }\n",
       "\n",
       "    .dataframe thead th {\n",
       "        text-align: right;\n",
       "    }\n",
       "</style>\n",
       "<table border=\"1\" class=\"dataframe\">\n",
       "  <thead>\n",
       "    <tr style=\"text-align: right;\">\n",
       "      <th></th>\n",
       "      <th>id</th>\n",
       "      <th>person_name</th>\n",
       "      <th>nine_box_category</th>\n",
       "      <th>feedback</th>\n",
       "      <th>adjusted</th>\n",
       "      <th>reviewed</th>\n",
       "    </tr>\n",
       "  </thead>\n",
       "  <tbody>\n",
       "    <tr>\n",
       "      <th>0</th>\n",
       "      <td>1</td>\n",
       "      <td>John Doe</td>\n",
       "      <td>Category 1: 'Risk' (Low performance, Low poten...</td>\n",
       "      <td>John has not progressed in his position. He is...</td>\n",
       "      <td>False</td>\n",
       "      <td>True</td>\n",
       "    </tr>\n",
       "    <tr>\n",
       "      <th>1</th>\n",
       "      <td>2</td>\n",
       "      <td>John Doe</td>\n",
       "      <td>Category 1: 'Risk' (Low performance, Low poten...</td>\n",
       "      <td>John has consistently disappointed me this qua...</td>\n",
       "      <td>False</td>\n",
       "      <td>True</td>\n",
       "    </tr>\n",
       "  </tbody>\n",
       "</table>\n",
       "</div>"
      ],
      "text/plain": [
       "   id person_name                                  nine_box_category  \\\n",
       "0   1    John Doe  Category 1: 'Risk' (Low performance, Low poten...   \n",
       "1   2    John Doe  Category 1: 'Risk' (Low performance, Low poten...   \n",
       "\n",
       "                                            feedback  adjusted  reviewed  \n",
       "0  John has not progressed in his position. He is...     False      True  \n",
       "1  John has consistently disappointed me this qua...     False      True  "
      ]
     },
     "execution_count": 92,
     "metadata": {},
     "output_type": "execute_result"
    }
   ],
   "source": [
    "review_dataset.head(2)"
   ]
  },
  {
   "cell_type": "code",
   "execution_count": 93,
   "id": "0b844831",
   "metadata": {
    "scrolled": true
   },
   "outputs": [
    {
     "name": "stderr",
     "output_type": "stream",
     "text": [
      "C:\\Users\\Simran Yesukumar\\AppData\\Local\\Temp\\ipykernel_5116\\2358278595.py:1: FutureWarning: The default value of regex will change from True to False in a future version.\n",
      "  review_dataset['Overall Performance Category'] = review_dataset['nine_box_category'].str.replace(r\"(\\s*\\(.*?\\)\\s*)\", \" \").str.strip()\n"
     ]
    }
   ],
   "source": [
    "review_dataset['Overall Performance Category'] = review_dataset['nine_box_category'].str.replace(r\"(\\s*\\(.*?\\)\\s*)\", \" \").str.strip()"
   ]
  },
  {
   "cell_type": "code",
   "execution_count": 94,
   "id": "d6b8ab56",
   "metadata": {},
   "outputs": [],
   "source": [
    "review_dataset['Performance Category'] = review_dataset['nine_box_category'].str.extract('.*\\((.*)\\).*')"
   ]
  },
  {
   "cell_type": "code",
   "execution_count": 95,
   "id": "6dfea502",
   "metadata": {},
   "outputs": [],
   "source": [
    "review_dataset[['Performance Category','Potential Category']] = review_dataset['Performance Category'].str.split(',', expand=True)"
   ]
  },
  {
   "cell_type": "code",
   "execution_count": 96,
   "id": "bbaa21cb",
   "metadata": {},
   "outputs": [
    {
     "data": {
      "text/html": [
       "<div>\n",
       "<style scoped>\n",
       "    .dataframe tbody tr th:only-of-type {\n",
       "        vertical-align: middle;\n",
       "    }\n",
       "\n",
       "    .dataframe tbody tr th {\n",
       "        vertical-align: top;\n",
       "    }\n",
       "\n",
       "    .dataframe thead th {\n",
       "        text-align: right;\n",
       "    }\n",
       "</style>\n",
       "<table border=\"1\" class=\"dataframe\">\n",
       "  <thead>\n",
       "    <tr style=\"text-align: right;\">\n",
       "      <th></th>\n",
       "      <th>id</th>\n",
       "      <th>person_name</th>\n",
       "      <th>nine_box_category</th>\n",
       "      <th>feedback</th>\n",
       "      <th>adjusted</th>\n",
       "      <th>reviewed</th>\n",
       "      <th>Overall Performance Category</th>\n",
       "      <th>Performance Category</th>\n",
       "      <th>Potential Category</th>\n",
       "    </tr>\n",
       "  </thead>\n",
       "  <tbody>\n",
       "    <tr>\n",
       "      <th>0</th>\n",
       "      <td>1</td>\n",
       "      <td>John Doe</td>\n",
       "      <td>Category 1: 'Risk' (Low performance, Low poten...</td>\n",
       "      <td>John has not progressed in his position. He is...</td>\n",
       "      <td>False</td>\n",
       "      <td>True</td>\n",
       "      <td>Category 1: 'Risk'</td>\n",
       "      <td>Low performance</td>\n",
       "      <td>Low potential</td>\n",
       "    </tr>\n",
       "    <tr>\n",
       "      <th>1</th>\n",
       "      <td>2</td>\n",
       "      <td>John Doe</td>\n",
       "      <td>Category 1: 'Risk' (Low performance, Low poten...</td>\n",
       "      <td>John has consistently disappointed me this qua...</td>\n",
       "      <td>False</td>\n",
       "      <td>True</td>\n",
       "      <td>Category 1: 'Risk'</td>\n",
       "      <td>Low performance</td>\n",
       "      <td>Low potential</td>\n",
       "    </tr>\n",
       "  </tbody>\n",
       "</table>\n",
       "</div>"
      ],
      "text/plain": [
       "   id person_name                                  nine_box_category  \\\n",
       "0   1    John Doe  Category 1: 'Risk' (Low performance, Low poten...   \n",
       "1   2    John Doe  Category 1: 'Risk' (Low performance, Low poten...   \n",
       "\n",
       "                                            feedback  adjusted  reviewed  \\\n",
       "0  John has not progressed in his position. He is...     False      True   \n",
       "1  John has consistently disappointed me this qua...     False      True   \n",
       "\n",
       "  Overall Performance Category Performance Category Potential Category  \n",
       "0           Category 1: 'Risk'      Low performance      Low potential  \n",
       "1           Category 1: 'Risk'      Low performance      Low potential  "
      ]
     },
     "execution_count": 96,
     "metadata": {},
     "output_type": "execute_result"
    }
   ],
   "source": [
    "review_dataset.head(2)"
   ]
  },
  {
   "cell_type": "code",
   "execution_count": 97,
   "id": "5d794a63",
   "metadata": {},
   "outputs": [
    {
     "data": {
      "text/plain": [
       "Index(['id', 'person_name', 'nine_box_category', 'feedback', 'adjusted',\n",
       "       'reviewed', 'Overall Performance Category', 'Performance Category',\n",
       "       'Potential Category'],\n",
       "      dtype='object')"
      ]
     },
     "execution_count": 97,
     "metadata": {},
     "output_type": "execute_result"
    }
   ],
   "source": [
    "review_dataset.columns"
   ]
  },
  {
   "cell_type": "code",
   "execution_count": 98,
   "id": "886eda4a",
   "metadata": {},
   "outputs": [],
   "source": [
    "review_dataset = review_dataset[['id', 'person_name', 'feedback','Overall Performance Category', 'Performance Category',\n",
    "       'Potential Category']]"
   ]
  },
  {
   "cell_type": "code",
   "execution_count": 99,
   "id": "4e164aed",
   "metadata": {},
   "outputs": [
    {
     "data": {
      "text/plain": [
       "id                              0\n",
       "person_name                     0\n",
       "feedback                        0\n",
       "Overall Performance Category    0\n",
       "Performance Category            0\n",
       "Potential Category              0\n",
       "dtype: int64"
      ]
     },
     "execution_count": 99,
     "metadata": {},
     "output_type": "execute_result"
    }
   ],
   "source": [
    "review_dataset.isna().sum()"
   ]
  },
  {
   "cell_type": "code",
   "execution_count": 100,
   "id": "ade2559a",
   "metadata": {},
   "outputs": [
    {
     "data": {
      "text/html": [
       "<div>\n",
       "<style scoped>\n",
       "    .dataframe tbody tr th:only-of-type {\n",
       "        vertical-align: middle;\n",
       "    }\n",
       "\n",
       "    .dataframe tbody tr th {\n",
       "        vertical-align: top;\n",
       "    }\n",
       "\n",
       "    .dataframe thead th {\n",
       "        text-align: right;\n",
       "    }\n",
       "</style>\n",
       "<table border=\"1\" class=\"dataframe\">\n",
       "  <thead>\n",
       "    <tr style=\"text-align: right;\">\n",
       "      <th></th>\n",
       "      <th>id</th>\n",
       "      <th>person_name</th>\n",
       "      <th>feedback</th>\n",
       "      <th>Overall Performance Category</th>\n",
       "      <th>Performance Category</th>\n",
       "      <th>Potential Category</th>\n",
       "    </tr>\n",
       "  </thead>\n",
       "  <tbody>\n",
       "    <tr>\n",
       "      <th>0</th>\n",
       "      <td>1</td>\n",
       "      <td>John Doe</td>\n",
       "      <td>John has not progressed in his position. He is...</td>\n",
       "      <td>Category 1: 'Risk'</td>\n",
       "      <td>Low performance</td>\n",
       "      <td>Low potential</td>\n",
       "    </tr>\n",
       "    <tr>\n",
       "      <th>1</th>\n",
       "      <td>2</td>\n",
       "      <td>John Doe</td>\n",
       "      <td>John has consistently disappointed me this qua...</td>\n",
       "      <td>Category 1: 'Risk'</td>\n",
       "      <td>Low performance</td>\n",
       "      <td>Low potential</td>\n",
       "    </tr>\n",
       "    <tr>\n",
       "      <th>2</th>\n",
       "      <td>3</td>\n",
       "      <td>John Doe</td>\n",
       "      <td>John turned in subpar work product all quarter...</td>\n",
       "      <td>Category 1: 'Risk'</td>\n",
       "      <td>Low performance</td>\n",
       "      <td>Low potential</td>\n",
       "    </tr>\n",
       "    <tr>\n",
       "      <th>3</th>\n",
       "      <td>6</td>\n",
       "      <td>John Doe</td>\n",
       "      <td>John Doe demonstrates a low level of knowledge...</td>\n",
       "      <td>Category 1: 'Risk'</td>\n",
       "      <td>Low performance</td>\n",
       "      <td>Low potential</td>\n",
       "    </tr>\n",
       "    <tr>\n",
       "      <th>4</th>\n",
       "      <td>7</td>\n",
       "      <td>George Gill</td>\n",
       "      <td>George gill's performance is really poor. He d...</td>\n",
       "      <td>Category 1: 'Risk'</td>\n",
       "      <td>Low performance</td>\n",
       "      <td>Low potential</td>\n",
       "    </tr>\n",
       "  </tbody>\n",
       "</table>\n",
       "</div>"
      ],
      "text/plain": [
       "   id  person_name                                           feedback  \\\n",
       "0   1     John Doe  John has not progressed in his position. He is...   \n",
       "1   2     John Doe  John has consistently disappointed me this qua...   \n",
       "2   3     John Doe  John turned in subpar work product all quarter...   \n",
       "3   6     John Doe  John Doe demonstrates a low level of knowledge...   \n",
       "4   7  George Gill  George gill's performance is really poor. He d...   \n",
       "\n",
       "  Overall Performance Category Performance Category Potential Category  \n",
       "0           Category 1: 'Risk'      Low performance      Low potential  \n",
       "1           Category 1: 'Risk'      Low performance      Low potential  \n",
       "2           Category 1: 'Risk'      Low performance      Low potential  \n",
       "3           Category 1: 'Risk'      Low performance      Low potential  \n",
       "4           Category 1: 'Risk'      Low performance      Low potential  "
      ]
     },
     "execution_count": 100,
     "metadata": {},
     "output_type": "execute_result"
    }
   ],
   "source": [
    "review_dataset.head()"
   ]
  },
  {
   "cell_type": "code",
   "execution_count": 101,
   "id": "76df8ba9",
   "metadata": {},
   "outputs": [],
   "source": [
    "#Number of employees in each Performance Category\n",
    "overall_performance = review_dataset.groupby(['Overall Performance Category'])['id'].nunique().reset_index()"
   ]
  },
  {
   "cell_type": "code",
   "execution_count": 102,
   "id": "583652b1",
   "metadata": {},
   "outputs": [
    {
     "data": {
      "text/html": [
       "<div>\n",
       "<style scoped>\n",
       "    .dataframe tbody tr th:only-of-type {\n",
       "        vertical-align: middle;\n",
       "    }\n",
       "\n",
       "    .dataframe tbody tr th {\n",
       "        vertical-align: top;\n",
       "    }\n",
       "\n",
       "    .dataframe thead th {\n",
       "        text-align: right;\n",
       "    }\n",
       "</style>\n",
       "<table border=\"1\" class=\"dataframe\">\n",
       "  <thead>\n",
       "    <tr style=\"text-align: right;\">\n",
       "      <th></th>\n",
       "      <th>Overall Performance Category</th>\n",
       "      <th>id</th>\n",
       "    </tr>\n",
       "  </thead>\n",
       "  <tbody>\n",
       "    <tr>\n",
       "      <th>0</th>\n",
       "      <td>Category 1: 'Risk'</td>\n",
       "      <td>126</td>\n",
       "    </tr>\n",
       "    <tr>\n",
       "      <th>1</th>\n",
       "      <td>Category 2: 'Average performer'</td>\n",
       "      <td>106</td>\n",
       "    </tr>\n",
       "    <tr>\n",
       "      <th>2</th>\n",
       "      <td>Category 3: 'Solid Performer'</td>\n",
       "      <td>89</td>\n",
       "    </tr>\n",
       "    <tr>\n",
       "      <th>3</th>\n",
       "      <td>Category 4: 'Inconsistent Player'</td>\n",
       "      <td>113</td>\n",
       "    </tr>\n",
       "    <tr>\n",
       "      <th>4</th>\n",
       "      <td>Category 5: 'Core Player'</td>\n",
       "      <td>112</td>\n",
       "    </tr>\n",
       "    <tr>\n",
       "      <th>5</th>\n",
       "      <td>Category 6: 'High Performer'</td>\n",
       "      <td>91</td>\n",
       "    </tr>\n",
       "    <tr>\n",
       "      <th>6</th>\n",
       "      <td>Category 7: 'Potential Gem'</td>\n",
       "      <td>41</td>\n",
       "    </tr>\n",
       "    <tr>\n",
       "      <th>7</th>\n",
       "      <td>Category 8: 'High Potential'</td>\n",
       "      <td>88</td>\n",
       "    </tr>\n",
       "    <tr>\n",
       "      <th>8</th>\n",
       "      <td>Category 9: 'Star'</td>\n",
       "      <td>112</td>\n",
       "    </tr>\n",
       "  </tbody>\n",
       "</table>\n",
       "</div>"
      ],
      "text/plain": [
       "        Overall Performance Category   id\n",
       "0                 Category 1: 'Risk'  126\n",
       "1    Category 2: 'Average performer'  106\n",
       "2      Category 3: 'Solid Performer'   89\n",
       "3  Category 4: 'Inconsistent Player'  113\n",
       "4          Category 5: 'Core Player'  112\n",
       "5       Category 6: 'High Performer'   91\n",
       "6        Category 7: 'Potential Gem'   41\n",
       "7       Category 8: 'High Potential'   88\n",
       "8                 Category 9: 'Star'  112"
      ]
     },
     "execution_count": 102,
     "metadata": {},
     "output_type": "execute_result"
    }
   ],
   "source": [
    "overall_performance"
   ]
  },
  {
   "cell_type": "code",
   "execution_count": 103,
   "id": "6e52df87",
   "metadata": {},
   "outputs": [
    {
     "data": {
      "text/plain": [
       "<Figure size 576x432 with 0 Axes>"
      ]
     },
     "metadata": {},
     "output_type": "display_data"
    },
    {
     "data": {
      "image/png": "[encoded data removed]",
      "text/plain": [
       "<Figure size 432x288 with 1 Axes>"
      ]
     },
     "metadata": {
      "needs_background": "light"
     },
     "output_type": "display_data"
    }
   ],
   "source": [
    "overall_performance = review_dataset.groupby(['Overall Performance Category'])['id'].nunique().reset_index()\n",
    "plt.figure(figsize= (8, 6))\n",
    "overall_performance.plot(x=\"Overall Performance Category\", y=\"id\", kind=\"barh\", fontsize=8)\n",
    "plt.show()"
   ]
  },
  {
   "cell_type": "code",
   "execution_count": 104,
   "id": "af3d1d24",
   "metadata": {},
   "outputs": [
    {
     "data": {
      "image/png": "[encoded data removed]",
      "text/plain": [
       "<Figure size 842.4x595.44 with 1 Axes>"
      ]
     },
     "metadata": {},
     "output_type": "display_data"
    }
   ],
   "source": [
    "import seaborn as sns\n",
    "# sns.set_theme(style=\"whitegrid\")\n",
    "sns.set_theme(rc={'figure.figsize':(11.7,8.27)})\n",
    "# sns.set(font_scale=1)\n",
    "ax = sns.barplot(x=\"Overall Performance Category\", y=\"id\", palette='Blues',data=overall_performance)\n",
    "ax.set_xticklabels(ax.get_xticklabels(), rotation=45, ha='right')\n",
    "ax.set_title('Number of Employees in Each Overall Performance Category')\n",
    "ax.set(xlabel='Overall Performance Categories', ylabel='Number of employees')\n",
    "plt.tight_layout()\n",
    "plt.show()"
   ]
  },
  {
   "cell_type": "code",
   "execution_count": 105,
   "id": "445ea737",
   "metadata": {},
   "outputs": [
    {
     "data": {
      "image/png": "[encoded data removed]",
      "text/plain": [
       "<Figure size 576x432 with 1 Axes>"
      ]
     },
     "metadata": {},
     "output_type": "display_data"
    }
   ],
   "source": [
    "performance = review_dataset.groupby(['Performance Category'])['id'].nunique().reset_index()\n",
    "# print(performance)\n",
    "# performance['Performance Category'] = pd.Categorical(performance['Performance Category'], [\"High Performance\", \"Moderate Performance\", \"Low Performance\"])\n",
    "# print(performance)\n",
    "# performance = performance.sort_values(\"Performance Category\")\n",
    "performance = performance.reindex([0, 2, 1])\n",
    "# sns.set_theme(style=\"whitegrid\")\n",
    "sns.set_theme(rc={'figure.figsize':(8,6)})\n",
    "# sns.set(font_scale=1)\n",
    "ax = sns.barplot(x=\"Performance Category\", y=\"id\", palette='Blues',data=performance)\n",
    "# ax.set_xticklabels(ax.get_xticklabels(), rotation=45, ha='right')\n",
    "ax.set_title('Number of Employees in Each Performance Category')\n",
    "ax.set(xlabel='Performance Categories', ylabel='Number of employees')\n",
    "# plt.tight_layout()\n",
    "plt.show()"
   ]
  },
  {
   "cell_type": "code",
   "execution_count": 106,
   "id": "9070b139",
   "metadata": {},
   "outputs": [
    {
     "data": {
      "image/png": "[encoded data removed]",
      "text/plain": [
       "<Figure size 576x432 with 1 Axes>"
      ]
     },
     "metadata": {},
     "output_type": "display_data"
    }
   ],
   "source": [
    "potential = review_dataset.groupby(['Potential Category'])['id'].nunique().reset_index()\n",
    "# print(potential)\n",
    "# performance['Performance Category'] = pd.Categorical(performance['Performance Category'], [\"High Performance\", \"Moderate Performance\", \"Low Performance\"])\n",
    "# print(performance)\n",
    "# performance = performance.sort_values(\"Performance Category\")\n",
    "potential = potential.reindex([0, 2, 1])\n",
    "# sns.set_theme(style=\"whitegrid\")\n",
    "sns.set_theme(rc={'figure.figsize':(8,6)})\n",
    "# sns.set(font_scale=1)\n",
    "ax = sns.barplot(x=\"Potential Category\", y=\"id\", palette='Blues',data=potential)\n",
    "# ax.set_xticklabels(ax.get_xticklabels(), rotation=45, ha='right')\n",
    "ax.set_title('Number of Employees in Each Potential Category')\n",
    "ax.set(xlabel='Potential Categories', ylabel='Number of employees')\n",
    "# plt.tight_layout()\n",
    "plt.show()"
   ]
  },
  {
   "cell_type": "code",
   "execution_count": 107,
   "id": "ca6b4502",
   "metadata": {},
   "outputs": [
    {
     "data": {
      "text/html": [
       "<div>\n",
       "<style scoped>\n",
       "    .dataframe tbody tr th:only-of-type {\n",
       "        vertical-align: middle;\n",
       "    }\n",
       "\n",
       "    .dataframe tbody tr th {\n",
       "        vertical-align: top;\n",
       "    }\n",
       "\n",
       "    .dataframe thead th {\n",
       "        text-align: right;\n",
       "    }\n",
       "</style>\n",
       "<table border=\"1\" class=\"dataframe\">\n",
       "  <thead>\n",
       "    <tr style=\"text-align: right;\">\n",
       "      <th></th>\n",
       "      <th>id</th>\n",
       "      <th>person_name</th>\n",
       "      <th>feedback</th>\n",
       "      <th>Overall Performance Category</th>\n",
       "      <th>Performance Category</th>\n",
       "      <th>Potential Category</th>\n",
       "    </tr>\n",
       "  </thead>\n",
       "  <tbody>\n",
       "    <tr>\n",
       "      <th>0</th>\n",
       "      <td>1</td>\n",
       "      <td>John Doe</td>\n",
       "      <td>John has not progressed in his position. He is...</td>\n",
       "      <td>Category 1: 'Risk'</td>\n",
       "      <td>Low performance</td>\n",
       "      <td>Low potential</td>\n",
       "    </tr>\n",
       "    <tr>\n",
       "      <th>1</th>\n",
       "      <td>2</td>\n",
       "      <td>John Doe</td>\n",
       "      <td>John has consistently disappointed me this qua...</td>\n",
       "      <td>Category 1: 'Risk'</td>\n",
       "      <td>Low performance</td>\n",
       "      <td>Low potential</td>\n",
       "    </tr>\n",
       "  </tbody>\n",
       "</table>\n",
       "</div>"
      ],
      "text/plain": [
       "   id person_name                                           feedback  \\\n",
       "0   1    John Doe  John has not progressed in his position. He is...   \n",
       "1   2    John Doe  John has consistently disappointed me this qua...   \n",
       "\n",
       "  Overall Performance Category Performance Category Potential Category  \n",
       "0           Category 1: 'Risk'      Low performance      Low potential  \n",
       "1           Category 1: 'Risk'      Low performance      Low potential  "
      ]
     },
     "execution_count": 107,
     "metadata": {},
     "output_type": "execute_result"
    }
   ],
   "source": [
    "review_dataset.head(2)"
   ]
  },
  {
   "cell_type": "markdown",
   "id": "4b22d976",
   "metadata": {},
   "source": [
    "# BART Summarization"
   ]
  },
  {
   "cell_type": "code",
   "execution_count": 108,
   "id": "bbaaac3d",
   "metadata": {},
   "outputs": [],
   "source": [
    "# !pip install --ignore-installed torch --user\n",
    "# !pip install torch\n",
    "# !pip3 install torch torchvision torchaudio --index-url https://download.pytorch.org/whl/cu118\n",
    "# !pip install bert-extractive-summarizer\n",
    "# !pip install transformers \n",
    "# !pip install bert-extractive-summarizer"
   ]
  },
  {
   "cell_type": "code",
   "execution_count": 109,
   "id": "539f0ac2",
   "metadata": {},
   "outputs": [],
   "source": [
    "from transformers import pipeline"
   ]
  },
  {
   "cell_type": "code",
   "execution_count": 110,
   "id": "afe31823",
   "metadata": {
    "scrolled": true
   },
   "outputs": [],
   "source": [
    "summarizer = pipeline(\"summarization\", model=\"facebook/bart-large-cnn\")"
   ]
  },
  {
   "cell_type": "code",
   "execution_count": 111,
   "id": "319cfdfa",
   "metadata": {},
   "outputs": [],
   "source": [
    "review_dataset_new = review_dataset.head(5)"
   ]
  },
  {
   "cell_type": "code",
   "execution_count": 112,
   "id": "4632cb00",
   "metadata": {},
   "outputs": [],
   "source": [
    "def summarize_text(text):\n",
    "    summary = summarizer(text, max_length=50, min_length=25, do_sample=False)\n",
    "    return summary[0]['summary_text']"
   ]
  },
  {
   "cell_type": "code",
   "execution_count": 113,
   "id": "c305e554",
   "metadata": {},
   "outputs": [
    {
     "name": "stderr",
     "output_type": "stream",
     "text": [
      "Your max_length is set to 50, but your input_length is only 37. Since this is a summarization task, where outputs shorter than the input are typically wanted, you might consider decreasing max_length manually, e.g. summarizer('...', max_length=18)\n",
      "Your max_length is set to 50, but your input_length is only 32. Since this is a summarization task, where outputs shorter than the input are typically wanted, you might consider decreasing max_length manually, e.g. summarizer('...', max_length=16)\n",
      "C:\\Users\\Simran Yesukumar\\AppData\\Local\\Temp\\ipykernel_5116\\1563702601.py:1: SettingWithCopyWarning: \n",
      "A value is trying to be set on a copy of a slice from a DataFrame.\n",
      "Try using .loc[row_indexer,col_indexer] = value instead\n",
      "\n",
      "See the caveats in the documentation: https://pandas.pydata.org/pandas-docs/stable/user_guide/indexing.html#returning-a-view-versus-a-copy\n",
      "  review_dataset_new['summary'] = review_dataset_new['feedback'].apply(summarize_text)\n"
     ]
    }
   ],
   "source": [
    "review_dataset_new['summary'] = review_dataset_new['feedback'].apply(summarize_text)"
   ]
  },
  {
   "cell_type": "code",
   "execution_count": 114,
   "id": "a332914e",
   "metadata": {},
   "outputs": [
    {
     "data": {
      "text/plain": [
       "array([\"John has not progressed in his position. He is continuously late, leaves early, and takes many breaks throughout the day. He calls out at least every other week and it's always on Fridays. His performance has significantly declined. My suggestion is he is not suitable for this position.\",\n",
       "       'John has consistently disappointed me this quarter with his shoddy work product. I asked him for a report and gave him a lenient two-week deadline, but he blew past that deadline without even informing me. When he finally turned the report in, it was three weeks late and riddled with typos. He did not seem interested in any of the comments that I made on that report, even though I made them for his benefit so he would understand what a high-quality report is supposed to look like.',\n",
       "       \"John turned in subpar work product all quarter. When I asked him to make revisions, he repeatedly failed to implement the corrections that I had requested. He also seemed confused and lost whenever we had discussions about the reports and the numbers in the data. He was not interested in learning more when I gave him opportunities to participate in trainings. He seems to have already reached his full potential here, which is disappointing given the quality of work I've seen from him.\",\n",
       "       'John Doe demonstrates a low level of knowledge of the required work procedures and his work does not comply with the required output standards. Also he is reluctant to take on new responsibilities.',\n",
       "       \"George gill's performance is really poor. He does not concentrates in  his job.\\nhe shows zero involvement in the works he does.\"],\n",
       "      dtype=object)"
      ]
     },
     "execution_count": 114,
     "metadata": {},
     "output_type": "execute_result"
    }
   ],
   "source": [
    "review_dataset_new['feedback'].unique()"
   ]
  },
  {
   "cell_type": "code",
   "execution_count": 115,
   "id": "4a1e26cf",
   "metadata": {},
   "outputs": [
    {
     "data": {
      "text/plain": [
       "array(['\"John has not progressed in his position. He is continuously late, leaves early, and takes many breaks throughout the day. His performance has significantly declined\"',\n",
       "       '\"I asked him for a report and gave him a lenient two-week deadline, but he blew past that deadline without even informing me,\" he says. \"When he finally turned the report in, it was three weeks late and',\n",
       "       '\"He seems to have already reached his full potential here,\" says CEO. \"He turned in subpar work product all quarter,\" he adds.',\n",
       "       'John Doe demonstrates a low level of knowledge of the required work procedures. His work does not comply with the required output standards. He is reluctant to take on new responsibilities.',\n",
       "       \"George Gill's performance is really poor. He does not concentrates in his job. He shows zero involvement in the works he does.\"],\n",
       "      dtype=object)"
      ]
     },
     "execution_count": 115,
     "metadata": {},
     "output_type": "execute_result"
    }
   ],
   "source": [
    "review_dataset_new['summary'].unique()"
   ]
  },
  {
   "cell_type": "markdown",
   "id": "7695e78a",
   "metadata": {},
   "source": [
    "# BERT Summarization "
   ]
  },
  {
   "cell_type": "code",
   "execution_count": 116,
   "id": "13b33c03",
   "metadata": {},
   "outputs": [],
   "source": [
    "# !pip install bert-extractive-summarizer"
   ]
  },
  {
   "cell_type": "code",
   "execution_count": 117,
   "id": "a67b5088",
   "metadata": {},
   "outputs": [],
   "source": [
    "from summarizer import Summarizer,TransformerSummarizer\n",
    "bert_model = Summarizer()"
   ]
  },
  {
   "cell_type": "code",
   "execution_count": 118,
   "id": "020945a4",
   "metadata": {},
   "outputs": [
    {
     "name": "stdout",
     "output_type": "stream",
     "text": [
      "john has not progressed in his position. he is continuously late, leaves early, and takes many breaks throughout the day. he calls out at least every other week and it's always on fridays. his performance has significantly declined. my suggestion is he is not suitable for this position.\n",
      "john has consistently disappointed me this quarter with his shoddy work product. i asked him for a report and gave him a lenient two-week deadline, but he blew past that deadline without even informing me. when he finally turned the report in, it was three weeks late and riddled with typos. he did not seem interested in any of the comments that i made on that report, even though i made them for his benefit so he would understand what a high-quality report is supposed to look like.\n",
      "john turned in subpar work product all quarter. when i asked him to make revisions, he repeatedly failed to implement the corrections that i had requested. he also seemed confused and lost whenever we had discussions about the reports and the numbers in the data. he was not interested in learning more when i gave him opportunities to participate in trainings. he seems to have already reached his full potential here, which is disappointing given the quality of work i've seen from him.\n",
      "john doe demonstrates a low level of knowledge of the required work procedures and his work does not comply with the required output standards. also he is reluctant to take on new responsibilities.\n",
      "george gill's performance is really poor. he does not concentrates in  his job.\n",
      "he shows zero involvement in the works he does.\n"
     ]
    },
    {
     "name": "stderr",
     "output_type": "stream",
     "text": [
      "C:\\Users\\Simran Yesukumar\\AppData\\Local\\Temp\\ipykernel_5116\\2769117368.py:13: FutureWarning: The frame.append method is deprecated and will be removed from pandas in a future version. Use pandas.concat instead.\n",
      "  full_summary=full_summary.append(new,ignore_index=True)\n",
      "C:\\Users\\Simran Yesukumar\\AppData\\Local\\Temp\\ipykernel_5116\\2769117368.py:13: FutureWarning: The frame.append method is deprecated and will be removed from pandas in a future version. Use pandas.concat instead.\n",
      "  full_summary=full_summary.append(new,ignore_index=True)\n",
      "C:\\Users\\Simran Yesukumar\\AppData\\Local\\Temp\\ipykernel_5116\\2769117368.py:13: FutureWarning: The frame.append method is deprecated and will be removed from pandas in a future version. Use pandas.concat instead.\n",
      "  full_summary=full_summary.append(new,ignore_index=True)\n",
      "C:\\Users\\Simran Yesukumar\\AppData\\Local\\Temp\\ipykernel_5116\\2769117368.py:13: FutureWarning: The frame.append method is deprecated and will be removed from pandas in a future version. Use pandas.concat instead.\n",
      "  full_summary=full_summary.append(new,ignore_index=True)\n",
      "C:\\Users\\Simran Yesukumar\\AppData\\Local\\Temp\\ipykernel_5116\\2769117368.py:13: FutureWarning: The frame.append method is deprecated and will be removed from pandas in a future version. Use pandas.concat instead.\n",
      "  full_summary=full_summary.append(new,ignore_index=True)\n"
     ]
    },
    {
     "data": {
      "text/html": [
       "<div>\n",
       "<style scoped>\n",
       "    .dataframe tbody tr th:only-of-type {\n",
       "        vertical-align: middle;\n",
       "    }\n",
       "\n",
       "    .dataframe tbody tr th {\n",
       "        vertical-align: top;\n",
       "    }\n",
       "\n",
       "    .dataframe thead th {\n",
       "        text-align: right;\n",
       "    }\n",
       "</style>\n",
       "<table border=\"1\" class=\"dataframe\">\n",
       "  <thead>\n",
       "    <tr style=\"text-align: right;\">\n",
       "      <th></th>\n",
       "      <th>Id</th>\n",
       "      <th>Summary</th>\n",
       "    </tr>\n",
       "  </thead>\n",
       "  <tbody>\n",
       "    <tr>\n",
       "      <th>0</th>\n",
       "      <td>1</td>\n",
       "      <td>john has not progressed in his position.</td>\n",
       "    </tr>\n",
       "    <tr>\n",
       "      <th>1</th>\n",
       "      <td>2</td>\n",
       "      <td>john has consistently disappointed me this qua...</td>\n",
       "    </tr>\n",
       "    <tr>\n",
       "      <th>2</th>\n",
       "      <td>3</td>\n",
       "      <td>john turned in subpar work product all quarter.</td>\n",
       "    </tr>\n",
       "    <tr>\n",
       "      <th>3</th>\n",
       "      <td>6</td>\n",
       "      <td>john doe demonstrates a low level of knowledge...</td>\n",
       "    </tr>\n",
       "    <tr>\n",
       "      <th>4</th>\n",
       "      <td>7</td>\n",
       "      <td>george gill's performance is really poor.</td>\n",
       "    </tr>\n",
       "  </tbody>\n",
       "</table>\n",
       "</div>"
      ],
      "text/plain": [
       "   Id                                            Summary\n",
       "0   1           john has not progressed in his position.\n",
       "1   2  john has consistently disappointed me this qua...\n",
       "2   3    john turned in subpar work product all quarter.\n",
       "3   6  john doe demonstrates a low level of knowledge...\n",
       "4   7          george gill's performance is really poor."
      ]
     },
     "execution_count": 118,
     "metadata": {},
     "output_type": "execute_result"
    }
   ],
   "source": [
    "summary=[]\n",
    "for x in review_dataset_new.id.unique():\n",
    "    docs=review_dataset_new[review_dataset_new['id']==x]['feedback'].str.lower()\n",
    "    docs=''.join(docs)\n",
    "    print(docs)\n",
    "    \n",
    "    result= bert_model(docs,num_sentences=1,min_length=20)\n",
    "    summary.append(result)\n",
    "\n",
    "full_summary=pd.DataFrame()\n",
    "for i in range(len(summary)):\n",
    "    new=pd.Series({'Id':review_dataset_new.id.unique()[i],'Summary':summary[i]})\n",
    "    full_summary=full_summary.append(new,ignore_index=True)\n",
    "    \n",
    "full_summary"
   ]
  },
  {
   "cell_type": "code",
   "execution_count": 119,
   "id": "9469a519",
   "metadata": {},
   "outputs": [
    {
     "name": "stderr",
     "output_type": "stream",
     "text": [
      "C:\\Users\\Simran Yesukumar\\AppData\\Local\\Temp\\ipykernel_5116\\3341931558.py:4: FutureWarning: The frame.append method is deprecated and will be removed from pandas in a future version. Use pandas.concat instead.\n",
      "  full_summary=full_summary.append(new,ignore_index=True)\n",
      "C:\\Users\\Simran Yesukumar\\AppData\\Local\\Temp\\ipykernel_5116\\3341931558.py:4: FutureWarning: The frame.append method is deprecated and will be removed from pandas in a future version. Use pandas.concat instead.\n",
      "  full_summary=full_summary.append(new,ignore_index=True)\n",
      "C:\\Users\\Simran Yesukumar\\AppData\\Local\\Temp\\ipykernel_5116\\3341931558.py:4: FutureWarning: The frame.append method is deprecated and will be removed from pandas in a future version. Use pandas.concat instead.\n",
      "  full_summary=full_summary.append(new,ignore_index=True)\n",
      "C:\\Users\\Simran Yesukumar\\AppData\\Local\\Temp\\ipykernel_5116\\3341931558.py:4: FutureWarning: The frame.append method is deprecated and will be removed from pandas in a future version. Use pandas.concat instead.\n",
      "  full_summary=full_summary.append(new,ignore_index=True)\n",
      "C:\\Users\\Simran Yesukumar\\AppData\\Local\\Temp\\ipykernel_5116\\3341931558.py:4: FutureWarning: The frame.append method is deprecated and will be removed from pandas in a future version. Use pandas.concat instead.\n",
      "  full_summary=full_summary.append(new,ignore_index=True)\n"
     ]
    },
    {
     "data": {
      "text/html": [
       "<div>\n",
       "<style scoped>\n",
       "    .dataframe tbody tr th:only-of-type {\n",
       "        vertical-align: middle;\n",
       "    }\n",
       "\n",
       "    .dataframe tbody tr th {\n",
       "        vertical-align: top;\n",
       "    }\n",
       "\n",
       "    .dataframe thead th {\n",
       "        text-align: right;\n",
       "    }\n",
       "</style>\n",
       "<table border=\"1\" class=\"dataframe\">\n",
       "  <thead>\n",
       "    <tr style=\"text-align: right;\">\n",
       "      <th></th>\n",
       "      <th>Id</th>\n",
       "      <th>Summary</th>\n",
       "    </tr>\n",
       "  </thead>\n",
       "  <tbody>\n",
       "    <tr>\n",
       "      <th>0</th>\n",
       "      <td>1</td>\n",
       "      <td>john has not progressed in his position.</td>\n",
       "    </tr>\n",
       "    <tr>\n",
       "      <th>1</th>\n",
       "      <td>2</td>\n",
       "      <td>john has consistently disappointed me this qua...</td>\n",
       "    </tr>\n",
       "    <tr>\n",
       "      <th>2</th>\n",
       "      <td>3</td>\n",
       "      <td>john turned in subpar work product all quarter.</td>\n",
       "    </tr>\n",
       "    <tr>\n",
       "      <th>3</th>\n",
       "      <td>6</td>\n",
       "      <td>john doe demonstrates a low level of knowledge...</td>\n",
       "    </tr>\n",
       "    <tr>\n",
       "      <th>4</th>\n",
       "      <td>7</td>\n",
       "      <td>george gill's performance is really poor.</td>\n",
       "    </tr>\n",
       "  </tbody>\n",
       "</table>\n",
       "</div>"
      ],
      "text/plain": [
       "   Id                                            Summary\n",
       "0   1           john has not progressed in his position.\n",
       "1   2  john has consistently disappointed me this qua...\n",
       "2   3    john turned in subpar work product all quarter.\n",
       "3   6  john doe demonstrates a low level of knowledge...\n",
       "4   7          george gill's performance is really poor."
      ]
     },
     "execution_count": 119,
     "metadata": {},
     "output_type": "execute_result"
    }
   ],
   "source": [
    "full_summary=pd.DataFrame()\n",
    "for i in range(len(summary)):\n",
    "    new=pd.Series({'Id':review_dataset_new.id.unique()[i],'Summary':summary[i]})\n",
    "    full_summary=full_summary.append(new,ignore_index=True)\n",
    "    \n",
    "full_summary"
   ]
  },
  {
   "cell_type": "code",
   "execution_count": 120,
   "id": "f21a5608",
   "metadata": {},
   "outputs": [
    {
     "data": {
      "text/plain": [
       "array([\"John has not progressed in his position. He is continuously late, leaves early, and takes many breaks throughout the day. He calls out at least every other week and it's always on Fridays. His performance has significantly declined. My suggestion is he is not suitable for this position.\",\n",
       "       'John has consistently disappointed me this quarter with his shoddy work product. I asked him for a report and gave him a lenient two-week deadline, but he blew past that deadline without even informing me. When he finally turned the report in, it was three weeks late and riddled with typos. He did not seem interested in any of the comments that I made on that report, even though I made them for his benefit so he would understand what a high-quality report is supposed to look like.',\n",
       "       \"John turned in subpar work product all quarter. When I asked him to make revisions, he repeatedly failed to implement the corrections that I had requested. He also seemed confused and lost whenever we had discussions about the reports and the numbers in the data. He was not interested in learning more when I gave him opportunities to participate in trainings. He seems to have already reached his full potential here, which is disappointing given the quality of work I've seen from him.\",\n",
       "       'John Doe demonstrates a low level of knowledge of the required work procedures and his work does not comply with the required output standards. Also he is reluctant to take on new responsibilities.',\n",
       "       \"George gill's performance is really poor. He does not concentrates in  his job.\\nhe shows zero involvement in the works he does.\"],\n",
       "      dtype=object)"
      ]
     },
     "execution_count": 120,
     "metadata": {},
     "output_type": "execute_result"
    }
   ],
   "source": [
    "review_dataset_new['feedback'].unique()"
   ]
  },
  {
   "cell_type": "code",
   "execution_count": 121,
   "id": "5030b6dd",
   "metadata": {},
   "outputs": [
    {
     "data": {
      "text/plain": [
       "array(['john has not progressed in his position.',\n",
       "       'john has consistently disappointed me this quarter with his shoddy work product.',\n",
       "       'john turned in subpar work product all quarter.',\n",
       "       'john doe demonstrates a low level of knowledge of the required work procedures and his work does not comply with the required output standards.',\n",
       "       \"george gill's performance is really poor.\"], dtype=object)"
      ]
     },
     "execution_count": 121,
     "metadata": {},
     "output_type": "execute_result"
    }
   ],
   "source": [
    "full_summary['Summary'].unique()"
   ]
  },
  {
   "cell_type": "markdown",
   "id": "2e1ee916",
   "metadata": {},
   "source": [
    "# BERT summarization - new reviews dataset"
   ]
  },
  {
   "cell_type": "code",
   "execution_count": 122,
   "id": "7e6095e3",
   "metadata": {},
   "outputs": [],
   "source": [
    "import pandas as pd\n",
    "\n",
    "# Data for the performance reviews\n",
    "new_review_data = {\n",
    "    \"Employee Name\": [\"John Smith\", \"Emily Davis\", \"Michael Brown\", \"Sophia Johnson\", \"David Lee\"],\n",
    "    \"Performance Review\": [\n",
    "        \"\"\"1. Work Quality: John consistently delivers high-quality work with attention to detail. His projects often exceed expectations in terms of accuracy and creativity.\n",
    "2. Timeliness: He completes tasks within deadlines, even when faced with tight schedules. His time management skills are commendable.\n",
    "3. Team Collaboration: John is an excellent team player. He contributes effectively in team meetings and is always willing to help colleagues.\n",
    "4. Communication: His communication skills are strong, both in written and verbal forms. John is clear and concise in his reports and presentations.\n",
    "5. Initiative: He often takes the initiative to suggest improvements in workflows and processes. His proactive approach is a valuable asset to the team.\n",
    "6. Learning & Development: John actively seeks out opportunities for professional development and applies new skills to his work.\n",
    "7. Problem Solving: He demonstrates strong problem-solving abilities, often coming up with innovative solutions to complex issues.\n",
    "8. Punctuality: John is punctual and adheres to company policies regarding work hours and attendance.\n",
    "9. Areas for Improvement: He could benefit from delegating tasks more effectively to avoid burnout.\n",
    "10. Overall Performance: John is a highly reliable and efficient employee, contributing significantly to the team's success.\"\"\",\n",
    "        \"\"\"1. Work Quality: Emily produces excellent work with a high degree of accuracy. Her attention to detail ensures minimal errors in her deliverables.\n",
    "2. Timeliness: She meets deadlines consistently and often completes tasks ahead of schedule. Emily’s time management is exemplary.\n",
    "3. Team Collaboration: Emily is a collaborative team member who supports and respects her colleagues. She excels in team environments.\n",
    "4. Communication: Her communication skills are strong, but she could work on being more assertive in group discussions.\n",
    "5. Initiative: Emily shows a good level of initiative and often volunteers for additional responsibilities.\n",
    "6. Learning & Development: She has demonstrated a willingness to learn new skills and has attended several training sessions.\n",
    "7. Problem Solving: Emily approaches problems methodically and often finds effective solutions. Her analytical skills are an asset.\n",
    "8. Punctuality: Emily maintains a high standard of punctuality and is reliable in her attendance.\n",
    "9. Areas for Improvement: Developing more confidence in her decision-making could enhance her overall performance.\n",
    "10. Overall Performance: Emily is a valuable team member with a solid performance record and a positive attitude.\"\"\",\n",
    "        \"\"\"1. Work Quality: Michael’s work is consistently thorough and accurate, with a strong emphasis on quality.\n",
    "2. Timeliness: He has a track record of meeting deadlines, though occasionally he may require reminders to complete tasks.\n",
    "3. Team Collaboration: Michael is a cooperative team member and provides constructive feedback to his peers.\n",
    "4. Communication: He communicates effectively but could benefit from more frequent updates on project progress.\n",
    "5. Initiative: Michael shows initiative in identifying areas for improvement and is eager to take on new challenges.\n",
    "6. Learning & Development: He is proactive in pursuing additional training and improving his skill set.\n",
    "7. Problem Solving: Michael is adept at analyzing problems and finding practical solutions quickly.\n",
    "8. Punctuality: Generally punctual, though he has occasionally arrived late due to personal commitments.\n",
    "9. Areas for Improvement: More consistent communication regarding project updates would enhance team alignment.\n",
    "10. Overall Performance: Michael is a dedicated employee who consistently delivers quality work and supports his team effectively.\"\"\",\n",
    "        \"\"\"1. Work Quality: Sophia’s work is precise and meets all required standards. Her attention to detail is a significant strength.\n",
    "2. Timeliness: She consistently meets deadlines and manages her time effectively, even with a heavy workload.\n",
    "3. Team Collaboration: Sophia is highly collaborative and works well with diverse teams, contributing positively to group dynamics.\n",
    "4. Communication: Her communication is clear and effective, though she could work on providing more regular status updates.\n",
    "5. Initiative: Sophia takes initiative to streamline processes and improve efficiency in her role.\n",
    "6. Learning & Development: She shows a strong commitment to her professional growth by attending workshops and training sessions.\n",
    "7. Problem Solving: Sophia effectively tackles challenges and finds innovative solutions to complex problems.\n",
    "8. Punctuality: Always punctual and adheres to the company’s attendance policies without fail.\n",
    "9. Areas for Improvement: Providing more frequent feedback to her team members could enhance their development.\n",
    "10. Overall Performance: Sophia is a strong performer who consistently delivers high-quality work and contributes positively to the team.\"\"\",\n",
    "        \"\"\"1. Work Quality: David consistently delivers work of high quality, demonstrating excellent technical skills.\n",
    "2. Timeliness: He manages to meet tight deadlines but occasionally struggles with balancing multiple priorities.\n",
    "3. Team Collaboration: David is a supportive team member who collaborates effectively with colleagues across departments.\n",
    "4. Communication: His communication is generally good, but he could benefit from being more proactive in team discussions.\n",
    "5. Initiative: David shows initiative in suggesting new ideas and improving existing processes.\n",
    "6. Learning & Development: He actively seeks opportunities for learning and applies new knowledge effectively in his role.\n",
    "7. Problem Solving: David excels in identifying problems early and developing creative solutions.\n",
    "8. Punctuality: Maintains excellent punctuality and rarely takes unplanned leave.\n",
    "9. Areas for Improvement: Improving his multitasking abilities could help him manage competing priorities more effectively.\n",
    "10. Overall Performance: David is a dependable employee with strong technical skills and a proactive approach to his work.\"\"\"\n",
    "    ]\n",
    "}\n",
    "\n",
    "# Create DataFrame\n",
    "new_review_data = pd.DataFrame(new_review_data)"
   ]
  },
  {
   "cell_type": "code",
   "execution_count": 123,
   "id": "c012c878",
   "metadata": {},
   "outputs": [],
   "source": [
    "# new_review_data"
   ]
  },
  {
   "cell_type": "code",
   "execution_count": 124,
   "id": "82a2c675",
   "metadata": {},
   "outputs": [
    {
     "name": "stderr",
     "output_type": "stream",
     "text": [
      "C:\\Users\\Simran Yesukumar\\AppData\\Local\\Temp\\ipykernel_5116\\4002044894.py:13: FutureWarning: The frame.append method is deprecated and will be removed from pandas in a future version. Use pandas.concat instead.\n",
      "  summary_generated_bert_performance_review=summary_generated_bert_performance_review.append(new,ignore_index=True)\n",
      "C:\\Users\\Simran Yesukumar\\AppData\\Local\\Temp\\ipykernel_5116\\4002044894.py:13: FutureWarning: The frame.append method is deprecated and will be removed from pandas in a future version. Use pandas.concat instead.\n",
      "  summary_generated_bert_performance_review=summary_generated_bert_performance_review.append(new,ignore_index=True)\n",
      "C:\\Users\\Simran Yesukumar\\AppData\\Local\\Temp\\ipykernel_5116\\4002044894.py:13: FutureWarning: The frame.append method is deprecated and will be removed from pandas in a future version. Use pandas.concat instead.\n",
      "  summary_generated_bert_performance_review=summary_generated_bert_performance_review.append(new,ignore_index=True)\n",
      "C:\\Users\\Simran Yesukumar\\AppData\\Local\\Temp\\ipykernel_5116\\4002044894.py:13: FutureWarning: The frame.append method is deprecated and will be removed from pandas in a future version. Use pandas.concat instead.\n",
      "  summary_generated_bert_performance_review=summary_generated_bert_performance_review.append(new,ignore_index=True)\n",
      "C:\\Users\\Simran Yesukumar\\AppData\\Local\\Temp\\ipykernel_5116\\4002044894.py:13: FutureWarning: The frame.append method is deprecated and will be removed from pandas in a future version. Use pandas.concat instead.\n",
      "  summary_generated_bert_performance_review=summary_generated_bert_performance_review.append(new,ignore_index=True)\n"
     ]
    },
    {
     "data": {
      "text/html": [
       "<div>\n",
       "<style scoped>\n",
       "    .dataframe tbody tr th:only-of-type {\n",
       "        vertical-align: middle;\n",
       "    }\n",
       "\n",
       "    .dataframe tbody tr th {\n",
       "        vertical-align: top;\n",
       "    }\n",
       "\n",
       "    .dataframe thead th {\n",
       "        text-align: right;\n",
       "    }\n",
       "</style>\n",
       "<table border=\"1\" class=\"dataframe\">\n",
       "  <thead>\n",
       "    <tr style=\"text-align: right;\">\n",
       "      <th></th>\n",
       "      <th>Id</th>\n",
       "      <th>Performance Review</th>\n",
       "    </tr>\n",
       "  </thead>\n",
       "  <tbody>\n",
       "    <tr>\n",
       "      <th>0</th>\n",
       "      <td>John Smith</td>\n",
       "      <td>work quality: john consistently delivers high-...</td>\n",
       "    </tr>\n",
       "    <tr>\n",
       "      <th>1</th>\n",
       "      <td>Emily Davis</td>\n",
       "      <td>work quality: emily produces excellent work wi...</td>\n",
       "    </tr>\n",
       "    <tr>\n",
       "      <th>2</th>\n",
       "      <td>Michael Brown</td>\n",
       "      <td>work quality: michael’s work is consistently t...</td>\n",
       "    </tr>\n",
       "    <tr>\n",
       "      <th>3</th>\n",
       "      <td>Sophia Johnson</td>\n",
       "      <td>work quality: sophia’s work is precise and mee...</td>\n",
       "    </tr>\n",
       "    <tr>\n",
       "      <th>4</th>\n",
       "      <td>David Lee</td>\n",
       "      <td>work quality: david consistently delivers work...</td>\n",
       "    </tr>\n",
       "  </tbody>\n",
       "</table>\n",
       "</div>"
      ],
      "text/plain": [
       "               Id                                 Performance Review\n",
       "0      John Smith  work quality: john consistently delivers high-...\n",
       "1     Emily Davis  work quality: emily produces excellent work wi...\n",
       "2   Michael Brown  work quality: michael’s work is consistently t...\n",
       "3  Sophia Johnson  work quality: sophia’s work is precise and mee...\n",
       "4       David Lee  work quality: david consistently delivers work..."
      ]
     },
     "execution_count": 124,
     "metadata": {},
     "output_type": "execute_result"
    }
   ],
   "source": [
    "summary_bert=[]\n",
    "for x in new_review_data['Employee Name'].unique():\n",
    "    docs=new_review_data[new_review_data['Employee Name']==x]['Performance Review'].str.lower()\n",
    "    docs=''.join(docs)\n",
    "#     print(docs)\n",
    "    \n",
    "    result= bert_model(docs,num_sentences=3,min_length=30)\n",
    "    summary_bert.append(result)\n",
    "\n",
    "summary_generated_bert_performance_review=pd.DataFrame()\n",
    "for i in range(len(summary_bert)):\n",
    "    new=pd.Series({'Id':new_review_data['Employee Name'].unique()[i],'Performance Review':summary_bert[i]})\n",
    "    summary_generated_bert_performance_review=summary_generated_bert_performance_review.append(new,ignore_index=True)\n",
    "    \n",
    "summary_generated_bert_performance_review"
   ]
  },
  {
   "cell_type": "markdown",
   "id": "0569e7fa",
   "metadata": {},
   "source": [
    "# Using GPT2 Model to summarize Performance Reviews"
   ]
  },
  {
   "cell_type": "code",
   "execution_count": 125,
   "id": "1d09c6ac",
   "metadata": {},
   "outputs": [],
   "source": [
    "GPT2_model = TransformerSummarizer(transformer_type=\"GPT2\",transformer_model_key=\"gpt2-medium\")"
   ]
  },
  {
   "cell_type": "code",
   "execution_count": 126,
   "id": "a21b1a04",
   "metadata": {},
   "outputs": [
    {
     "name": "stderr",
     "output_type": "stream",
     "text": [
      "C:\\Users\\Simran Yesukumar\\AppData\\Local\\Temp\\ipykernel_5116\\2694317152.py:13: FutureWarning: The frame.append method is deprecated and will be removed from pandas in a future version. Use pandas.concat instead.\n",
      "  summary_generated_gp2_performance_review=summary_generated_gp2_performance_review.append(new,ignore_index=True)\n",
      "C:\\Users\\Simran Yesukumar\\AppData\\Local\\Temp\\ipykernel_5116\\2694317152.py:13: FutureWarning: The frame.append method is deprecated and will be removed from pandas in a future version. Use pandas.concat instead.\n",
      "  summary_generated_gp2_performance_review=summary_generated_gp2_performance_review.append(new,ignore_index=True)\n",
      "C:\\Users\\Simran Yesukumar\\AppData\\Local\\Temp\\ipykernel_5116\\2694317152.py:13: FutureWarning: The frame.append method is deprecated and will be removed from pandas in a future version. Use pandas.concat instead.\n",
      "  summary_generated_gp2_performance_review=summary_generated_gp2_performance_review.append(new,ignore_index=True)\n",
      "C:\\Users\\Simran Yesukumar\\AppData\\Local\\Temp\\ipykernel_5116\\2694317152.py:13: FutureWarning: The frame.append method is deprecated and will be removed from pandas in a future version. Use pandas.concat instead.\n",
      "  summary_generated_gp2_performance_review=summary_generated_gp2_performance_review.append(new,ignore_index=True)\n",
      "C:\\Users\\Simran Yesukumar\\AppData\\Local\\Temp\\ipykernel_5116\\2694317152.py:13: FutureWarning: The frame.append method is deprecated and will be removed from pandas in a future version. Use pandas.concat instead.\n",
      "  summary_generated_gp2_performance_review=summary_generated_gp2_performance_review.append(new,ignore_index=True)\n"
     ]
    },
    {
     "data": {
      "text/html": [
       "<div>\n",
       "<style scoped>\n",
       "    .dataframe tbody tr th:only-of-type {\n",
       "        vertical-align: middle;\n",
       "    }\n",
       "\n",
       "    .dataframe tbody tr th {\n",
       "        vertical-align: top;\n",
       "    }\n",
       "\n",
       "    .dataframe thead th {\n",
       "        text-align: right;\n",
       "    }\n",
       "</style>\n",
       "<table border=\"1\" class=\"dataframe\">\n",
       "  <thead>\n",
       "    <tr style=\"text-align: right;\">\n",
       "      <th></th>\n",
       "      <th>Id</th>\n",
       "      <th>Performance Review</th>\n",
       "    </tr>\n",
       "  </thead>\n",
       "  <tbody>\n",
       "    <tr>\n",
       "      <th>0</th>\n",
       "      <td>John Smith</td>\n",
       "      <td>work quality: john consistently delivers high-...</td>\n",
       "    </tr>\n",
       "    <tr>\n",
       "      <th>1</th>\n",
       "      <td>Emily Davis</td>\n",
       "      <td>work quality: emily produces excellent work wi...</td>\n",
       "    </tr>\n",
       "    <tr>\n",
       "      <th>2</th>\n",
       "      <td>Michael Brown</td>\n",
       "      <td>work quality: michael’s work is consistently t...</td>\n",
       "    </tr>\n",
       "    <tr>\n",
       "      <th>3</th>\n",
       "      <td>Sophia Johnson</td>\n",
       "      <td>work quality: sophia’s work is precise and mee...</td>\n",
       "    </tr>\n",
       "    <tr>\n",
       "      <th>4</th>\n",
       "      <td>David Lee</td>\n",
       "      <td>work quality: david consistently delivers work...</td>\n",
       "    </tr>\n",
       "  </tbody>\n",
       "</table>\n",
       "</div>"
      ],
      "text/plain": [
       "               Id                                 Performance Review\n",
       "0      John Smith  work quality: john consistently delivers high-...\n",
       "1     Emily Davis  work quality: emily produces excellent work wi...\n",
       "2   Michael Brown  work quality: michael’s work is consistently t...\n",
       "3  Sophia Johnson  work quality: sophia’s work is precise and mee...\n",
       "4       David Lee  work quality: david consistently delivers work..."
      ]
     },
     "execution_count": 126,
     "metadata": {},
     "output_type": "execute_result"
    }
   ],
   "source": [
    "summary_generate_gpt2=[]\n",
    "for x in new_review_data['Employee Name'].unique():\n",
    "    docs=new_review_data[new_review_data['Employee Name']==x]['Performance Review'].str.lower()\n",
    "    docs=''.join(docs)\n",
    "#     print(docs)\n",
    "    \n",
    "    result= GPT2_model(docs,num_sentences=3,min_length=30)\n",
    "    summary_generate_gpt2.append(result)\n",
    "\n",
    "summary_generated_gp2_performance_review=pd.DataFrame()\n",
    "for i in range(len(summary_generate_gpt2)):\n",
    "    new=pd.Series({'Id':new_review_data['Employee Name'].unique()[i],'Performance Review':summary_generate_gpt2[i]})\n",
    "    summary_generated_gp2_performance_review=summary_generated_gp2_performance_review.append(new,ignore_index=True)\n",
    "    \n",
    "summary_generated_gp2_performance_review"
   ]
  },
  {
   "cell_type": "markdown",
   "id": "deef97f3",
   "metadata": {},
   "source": [
    "# Using GPT2 Model to summarize employee's Self Check-in comments"
   ]
  },
  {
   "cell_type": "code",
   "execution_count": 138,
   "id": "f08a3d24",
   "metadata": {},
   "outputs": [],
   "source": [
    "import pandas as pd\n",
    "\n",
    "# Data for the self check-in comments\n",
    "data = {\n",
    "    \"Employee Name\": [\"John Smith\", \"Emily Davis\", \"Michael Brown\", \"Sophia Johnson\", \"David Lee\"],\n",
    "    \"Performance Reviews\": [\n",
    "        \"Over the past quarter, I feel I’ve made significant strides in delivering high-quality work and maintaining attention to detail. I’ve managed to meet deadlines consistently, even when the workload was heavy, which I attribute to better time management practices I’ve adopted. Participating in team meetings has been a great way for me to share my ideas and get valuable feedback, and I believe my contributions have been well-received. I’ve worked on improving my communication skills, ensuring that my updates and reports are clear and concise. Taking the initiative to suggest process improvements has been rewarding, and I’m proud of the positive changes implemented as a result. I’ve also focused on my professional development by attending several training sessions, which have equipped me with new skills I’ve already started applying. Problem-solving remains a strong suit of mine, and I’ve enjoyed tackling some of the more complex challenges we’ve faced. My punctuality has been excellent, and I’ve been able to maintain a good work-life balance without affecting my attendance. One area I recognize I need to improve on is delegating tasks more effectively to avoid overburdening myself. I’ve taken steps to mentor junior team members, and I’m seeing positive results from this. Volunteering for challenging tasks has helped me grow and learn, and I’m keen to continue this approach. I’ve maintained a positive attitude even during high-pressure situations and have found that being adaptable to change has greatly benefited my work. I’m pleased with the progress I’ve made in aligning with both technical and strategic goals. Streamlining our reporting processes was a significant achievement, saving time and increasing efficiency. Seeking feedback has been crucial, and I’ve made a concerted effort to incorporate it into my daily work. I believe my work ethic and motivation have had a positive influence on the team. Overall, I’m proud of my contributions and look forward to continuing to excel and support the team.\",\n",
    "        \"Reflecting on the past quarter, I feel that I’ve achieved a lot in terms of project quality and meeting expectations. My attention to detail has ensured that my work is accurate and often exceeds what is required. I’ve been successful in managing my time, consistently meeting deadlines without compromising the quality of my deliverables. Working collaboratively with my colleagues has been a highlight, and I believe my supportive nature has helped our team work more effectively together. Communication has been a key focus for me, and I’ve worked on being clearer and more assertive in discussions and updates. I’ve shown initiative by volunteering for additional responsibilities and proposing ideas to improve our workflows. I’ve actively pursued professional development opportunities, including several training sessions that have enhanced my skills. My approach to problem-solving has been methodical, allowing me to find effective solutions to challenges we’ve encountered. I’ve maintained high standards of punctuality and reliability, which I think has positively impacted the team’s productivity. Confidence in decision-making is an area I’m working on, and I’ve been seeking more feedback to help build this. I’m proud of the way I’ve handled multiple tasks and my ability to stay organized under pressure. I’ve volunteered for several projects that have pushed me out of my comfort zone, which has been a valuable learning experience. Adapting to new processes and requirements has been a challenge I’ve met with a positive attitude. I believe my understanding of both technical and team dynamics has improved significantly. My recent suggestion to optimize our document management system has been well-received and implemented. I’m committed to seeking continuous feedback and using it to improve my performance. Overall, I feel that my dedication and effort have contributed positively to our team’s success, and I’m eager to keep growing and supporting my colleagues.\",\n",
    "        \"Looking back on this quarter, I’m pleased with my performance in terms of the quality and accuracy of my work. I’ve been able to meet deadlines reliably, although balancing multiple projects has sometimes required me to be more mindful of my time management. I’ve made a conscious effort to contribute constructively during team meetings and to provide helpful feedback to my peers. My communication has been generally effective, but I recognize the need to keep the team more regularly updated on my progress. I’ve taken the initiative to identify areas where we can improve and have proposed several changes that have been positively received. I’ve engaged in additional training to enhance my skills, which has been beneficial for my role. Problem-solving continues to be a strong area for me, and I’ve enjoyed finding solutions to some of the more complex issues we’ve faced. Punctuality has been good overall, though I’ve had to manage some personal commitments that affected my schedule slightly. Improving the consistency of my communication, particularly regarding project updates, is a priority for me. I’m proud of my contributions to team projects and the way I’ve supported my colleagues. Volunteering for tasks outside my usual responsibilities has been a great way to learn and grow. I’ve maintained a positive attitude, even when faced with changing project demands. I’ve gained a better understanding of both the technical aspects of my work and the broader strategic goals of the team. My suggestion to enhance our feedback loop has been implemented and has improved our workflow. Seeking feedback and using it to refine my approach has been a key focus for me. I believe my work ethic and dedication have positively influenced the team. Overall, I’m proud of the progress I’ve made and look forward to continuing to contribute to our team’s success.\",\n",
    "        \"Over the past quarter, I’ve been dedicated to delivering precise and high-quality work, and I feel I’ve met the required standards consistently. Time management has been a strength, allowing me to handle a heavy workload while still meeting deadlines. Collaboration with diverse teams has been rewarding, and I believe I’ve positively contributed to group dynamics. I’ve focused on clear and effective communication, though I’ve identified the need to provide more regular status updates to improve coordination. Taking the initiative to streamline processes has been a priority, and I’ve seen positive results from the changes implemented. I’ve attended several workshops and training sessions to support my professional growth, which I’ve found highly beneficial. Problem-solving has been an area where I’ve excelled, often finding innovative solutions to complex challenges. My punctuality has been excellent, and I’ve adhered to company policies regarding attendance without fail. Providing more frequent feedback to team members is something I’m working on to enhance my leadership capabilities. I’m proud of my ability to handle various responsibilities and adapt to new processes. Volunteering for new and challenging tasks has helped me learn and expand my skills. I’ve maintained a positive attitude and resilience in the face of changing project requirements. I’ve improved my understanding of both technical and strategic elements of my role. My suggestion to improve our task tracking system has been successfully implemented, saving the team time. Seeking feedback from colleagues and incorporating it into my work has been a valuable practice. I believe my work ethic and willingness to support others have had a positive impact. Overall, I’m satisfied with my contributions and look forward to continuing to develop my skills and support the team.\",\n",
    "        \"Reflecting on this quarter, I’m proud of the high-quality work I’ve delivered and the technical skills I’ve demonstrated. Managing tight deadlines has been challenging but I’ve been able to meet them reliably. Balancing multiple priorities has been an area of focus for me, and I’ve developed strategies to manage my time more effectively. I’ve worked collaboratively with colleagues across departments, which has enhanced my understanding of different aspects of our work. My communication has been generally effective, though I plan to be more proactive in team discussions moving forward. I’ve taken the initiative to suggest improvements to existing processes and have seen positive feedback on these ideas. Engaging in learning opportunities and applying new knowledge has been beneficial for my role. Problem-solving is a strong suit of mine, and I’ve enjoyed developing creative solutions to issues we’ve encountered. My punctuality has been excellent, and I’ve maintained a reliable attendance record. Improving my multitasking abilities is an area I’m focusing on to manage competing priorities better. Volunteering for challenging projects has been a great learning experience and has helped me grow. I’ve maintained a positive attitude and adaptability, even when faced with changing project requirements. My understanding of both technical and strategic goals has deepened over the past quarter. My suggestion to optimize our resource allocation process has been implemented and has improved efficiency. Seeking and acting on feedback has been a priority for me, and I’ve seen positive results. I believe my dedication and proactive approach have contributed positively to the team. Overall, I’m pleased with my progress and am committed to continuing to support our team and enhance my skills.\"\n",
    "    ]\n",
    "}\n",
    "\n",
    "# Create DataFrame\n",
    "new_reviews_comments_2 = pd.DataFrame(data)\n",
    "GPT2_model = TransformerSummarizer(transformer_type=\"GPT2\",transformer_model_key=\"gpt2-medium\")"
   ]
  },
  {
   "cell_type": "code",
   "execution_count": 139,
   "id": "511f25bf",
   "metadata": {},
   "outputs": [
    {
     "name": "stderr",
     "output_type": "stream",
     "text": [
      "C:\\Users\\Simran Yesukumar\\AppData\\Local\\Temp\\ipykernel_5116\\1187538795.py:13: FutureWarning: The frame.append method is deprecated and will be removed from pandas in a future version. Use pandas.concat instead.\n",
      "  full_summary=full_summary.append(new,ignore_index=True)\n",
      "C:\\Users\\Simran Yesukumar\\AppData\\Local\\Temp\\ipykernel_5116\\1187538795.py:13: FutureWarning: The frame.append method is deprecated and will be removed from pandas in a future version. Use pandas.concat instead.\n",
      "  full_summary=full_summary.append(new,ignore_index=True)\n",
      "C:\\Users\\Simran Yesukumar\\AppData\\Local\\Temp\\ipykernel_5116\\1187538795.py:13: FutureWarning: The frame.append method is deprecated and will be removed from pandas in a future version. Use pandas.concat instead.\n",
      "  full_summary=full_summary.append(new,ignore_index=True)\n",
      "C:\\Users\\Simran Yesukumar\\AppData\\Local\\Temp\\ipykernel_5116\\1187538795.py:13: FutureWarning: The frame.append method is deprecated and will be removed from pandas in a future version. Use pandas.concat instead.\n",
      "  full_summary=full_summary.append(new,ignore_index=True)\n",
      "C:\\Users\\Simran Yesukumar\\AppData\\Local\\Temp\\ipykernel_5116\\1187538795.py:13: FutureWarning: The frame.append method is deprecated and will be removed from pandas in a future version. Use pandas.concat instead.\n",
      "  full_summary=full_summary.append(new,ignore_index=True)\n"
     ]
    },
    {
     "data": {
      "text/html": [
       "<div>\n",
       "<style scoped>\n",
       "    .dataframe tbody tr th:only-of-type {\n",
       "        vertical-align: middle;\n",
       "    }\n",
       "\n",
       "    .dataframe tbody tr th {\n",
       "        vertical-align: top;\n",
       "    }\n",
       "\n",
       "    .dataframe thead th {\n",
       "        text-align: right;\n",
       "    }\n",
       "</style>\n",
       "<table border=\"1\" class=\"dataframe\">\n",
       "  <thead>\n",
       "    <tr style=\"text-align: right;\">\n",
       "      <th></th>\n",
       "      <th>Id</th>\n",
       "      <th>Performance Reviews</th>\n",
       "    </tr>\n",
       "  </thead>\n",
       "  <tbody>\n",
       "    <tr>\n",
       "      <th>0</th>\n",
       "      <td>John Smith</td>\n",
       "      <td>over the past quarter, i feel i’ve made signif...</td>\n",
       "    </tr>\n",
       "    <tr>\n",
       "      <th>1</th>\n",
       "      <td>Emily Davis</td>\n",
       "      <td>reflecting on the past quarter, i feel that i’...</td>\n",
       "    </tr>\n",
       "    <tr>\n",
       "      <th>2</th>\n",
       "      <td>Michael Brown</td>\n",
       "      <td>looking back on this quarter, i’m pleased with...</td>\n",
       "    </tr>\n",
       "    <tr>\n",
       "      <th>3</th>\n",
       "      <td>Sophia Johnson</td>\n",
       "      <td>over the past quarter, i’ve been dedicated to ...</td>\n",
       "    </tr>\n",
       "    <tr>\n",
       "      <th>4</th>\n",
       "      <td>David Lee</td>\n",
       "      <td>reflecting on this quarter, i’m proud of the h...</td>\n",
       "    </tr>\n",
       "  </tbody>\n",
       "</table>\n",
       "</div>"
      ],
      "text/plain": [
       "               Id                                Performance Reviews\n",
       "0      John Smith  over the past quarter, i feel i’ve made signif...\n",
       "1     Emily Davis  reflecting on the past quarter, i feel that i’...\n",
       "2   Michael Brown  looking back on this quarter, i’m pleased with...\n",
       "3  Sophia Johnson  over the past quarter, i’ve been dedicated to ...\n",
       "4       David Lee  reflecting on this quarter, i’m proud of the h..."
      ]
     },
     "execution_count": 139,
     "metadata": {},
     "output_type": "execute_result"
    }
   ],
   "source": [
    "summary=[]\n",
    "for x in new_reviews_comments_2['Employee Name'].unique():\n",
    "    docs=new_reviews_comments_2[new_reviews_comments_2['Employee Name']==x]['Performance Reviews'].str.lower()\n",
    "    docs=''.join(docs)\n",
    "#     print(docs)\n",
    "    \n",
    "    result= GPT2_model(docs,num_sentences=3,min_length=30)\n",
    "    summary.append(result)\n",
    "\n",
    "full_summary=pd.DataFrame()\n",
    "for i in range(len(summary)):\n",
    "    new=pd.Series({'Id':new_reviews_comments_2['Employee Name'].unique()[i],'Performance Reviews':summary[i]})\n",
    "    full_summary=full_summary.append(new,ignore_index=True)\n",
    "    \n",
    "full_summary"
   ]
  },
  {
   "cell_type": "code",
   "execution_count": 140,
   "id": "3a40bfb4",
   "metadata": {},
   "outputs": [
    {
     "data": {
      "text/plain": [
       "array(['over the past quarter, i feel i’ve made significant strides in delivering high-quality work and maintaining attention to detail. i’ve managed to meet deadlines consistently, even when the workload was heavy, which i attribute to better time management practices i’ve adopted. streamlining our reporting processes was a significant achievement, saving time and increasing efficiency.',\n",
       "       'reflecting on the past quarter, i feel that i’ve achieved a lot in terms of project quality and meeting expectations. i’ve been successful in managing my time, consistently meeting deadlines without compromising the quality of my deliverables. my recent suggestion to optimize our document management system has been well-received and implemented.',\n",
       "       'looking back on this quarter, i’m pleased with my performance in terms of the quality and accuracy of my work. i’ve made a conscious effort to contribute constructively during team meetings and to provide helpful feedback to my peers. seeking feedback and using it to refine my approach has been a key focus for me.',\n",
       "       'over the past quarter, i’ve been dedicated to delivering precise and high-quality work, and i feel i’ve met the required standards consistently. providing more frequent feedback to team members is something i’m working on to enhance my leadership capabilities. seeking feedback from colleagues and incorporating it into my work has been a valuable practice.',\n",
       "       'reflecting on this quarter, i’m proud of the high-quality work i’ve delivered and the technical skills i’ve demonstrated. engaging in learning opportunities and applying new knowledge has been beneficial for my role. seeking and acting on feedback has been a priority for me, and i’ve seen positive results.'],\n",
       "      dtype=object)"
      ]
     },
     "execution_count": 140,
     "metadata": {},
     "output_type": "execute_result"
    }
   ],
   "source": [
    "full_summary['Performance Reviews'].unique()"
   ]
  },
  {
   "cell_type": "code",
   "execution_count": 141,
   "id": "a3dee094",
   "metadata": {
    "scrolled": true
   },
   "outputs": [
    {
     "data": {
      "text/plain": [
       "array(['Over the past quarter, I feel I’ve made significant strides in delivering high-quality work and maintaining attention to detail. I’ve managed to meet deadlines consistently, even when the workload was heavy, which I attribute to better time management practices I’ve adopted. Participating in team meetings has been a great way for me to share my ideas and get valuable feedback, and I believe my contributions have been well-received. I’ve worked on improving my communication skills, ensuring that my updates and reports are clear and concise. Taking the initiative to suggest process improvements has been rewarding, and I’m proud of the positive changes implemented as a result. I’ve also focused on my professional development by attending several training sessions, which have equipped me with new skills I’ve already started applying. Problem-solving remains a strong suit of mine, and I’ve enjoyed tackling some of the more complex challenges we’ve faced. My punctuality has been excellent, and I’ve been able to maintain a good work-life balance without affecting my attendance. One area I recognize I need to improve on is delegating tasks more effectively to avoid overburdening myself. I’ve taken steps to mentor junior team members, and I’m seeing positive results from this. Volunteering for challenging tasks has helped me grow and learn, and I’m keen to continue this approach. I’ve maintained a positive attitude even during high-pressure situations and have found that being adaptable to change has greatly benefited my work. I’m pleased with the progress I’ve made in aligning with both technical and strategic goals. Streamlining our reporting processes was a significant achievement, saving time and increasing efficiency. Seeking feedback has been crucial, and I’ve made a concerted effort to incorporate it into my daily work. I believe my work ethic and motivation have had a positive influence on the team. Overall, I’m proud of my contributions and look forward to continuing to excel and support the team.',\n",
       "       'Reflecting on the past quarter, I feel that I’ve achieved a lot in terms of project quality and meeting expectations. My attention to detail has ensured that my work is accurate and often exceeds what is required. I’ve been successful in managing my time, consistently meeting deadlines without compromising the quality of my deliverables. Working collaboratively with my colleagues has been a highlight, and I believe my supportive nature has helped our team work more effectively together. Communication has been a key focus for me, and I’ve worked on being clearer and more assertive in discussions and updates. I’ve shown initiative by volunteering for additional responsibilities and proposing ideas to improve our workflows. I’ve actively pursued professional development opportunities, including several training sessions that have enhanced my skills. My approach to problem-solving has been methodical, allowing me to find effective solutions to challenges we’ve encountered. I’ve maintained high standards of punctuality and reliability, which I think has positively impacted the team’s productivity. Confidence in decision-making is an area I’m working on, and I’ve been seeking more feedback to help build this. I’m proud of the way I’ve handled multiple tasks and my ability to stay organized under pressure. I’ve volunteered for several projects that have pushed me out of my comfort zone, which has been a valuable learning experience. Adapting to new processes and requirements has been a challenge I’ve met with a positive attitude. I believe my understanding of both technical and team dynamics has improved significantly. My recent suggestion to optimize our document management system has been well-received and implemented. I’m committed to seeking continuous feedback and using it to improve my performance. Overall, I feel that my dedication and effort have contributed positively to our team’s success, and I’m eager to keep growing and supporting my colleagues.',\n",
       "       'Looking back on this quarter, I’m pleased with my performance in terms of the quality and accuracy of my work. I’ve been able to meet deadlines reliably, although balancing multiple projects has sometimes required me to be more mindful of my time management. I’ve made a conscious effort to contribute constructively during team meetings and to provide helpful feedback to my peers. My communication has been generally effective, but I recognize the need to keep the team more regularly updated on my progress. I’ve taken the initiative to identify areas where we can improve and have proposed several changes that have been positively received. I’ve engaged in additional training to enhance my skills, which has been beneficial for my role. Problem-solving continues to be a strong area for me, and I’ve enjoyed finding solutions to some of the more complex issues we’ve faced. Punctuality has been good overall, though I’ve had to manage some personal commitments that affected my schedule slightly. Improving the consistency of my communication, particularly regarding project updates, is a priority for me. I’m proud of my contributions to team projects and the way I’ve supported my colleagues. Volunteering for tasks outside my usual responsibilities has been a great way to learn and grow. I’ve maintained a positive attitude, even when faced with changing project demands. I’ve gained a better understanding of both the technical aspects of my work and the broader strategic goals of the team. My suggestion to enhance our feedback loop has been implemented and has improved our workflow. Seeking feedback and using it to refine my approach has been a key focus for me. I believe my work ethic and dedication have positively influenced the team. Overall, I’m proud of the progress I’ve made and look forward to continuing to contribute to our team’s success.',\n",
       "       'Over the past quarter, I’ve been dedicated to delivering precise and high-quality work, and I feel I’ve met the required standards consistently. Time management has been a strength, allowing me to handle a heavy workload while still meeting deadlines. Collaboration with diverse teams has been rewarding, and I believe I’ve positively contributed to group dynamics. I’ve focused on clear and effective communication, though I’ve identified the need to provide more regular status updates to improve coordination. Taking the initiative to streamline processes has been a priority, and I’ve seen positive results from the changes implemented. I’ve attended several workshops and training sessions to support my professional growth, which I’ve found highly beneficial. Problem-solving has been an area where I’ve excelled, often finding innovative solutions to complex challenges. My punctuality has been excellent, and I’ve adhered to company policies regarding attendance without fail. Providing more frequent feedback to team members is something I’m working on to enhance my leadership capabilities. I’m proud of my ability to handle various responsibilities and adapt to new processes. Volunteering for new and challenging tasks has helped me learn and expand my skills. I’ve maintained a positive attitude and resilience in the face of changing project requirements. I’ve improved my understanding of both technical and strategic elements of my role. My suggestion to improve our task tracking system has been successfully implemented, saving the team time. Seeking feedback from colleagues and incorporating it into my work has been a valuable practice. I believe my work ethic and willingness to support others have had a positive impact. Overall, I’m satisfied with my contributions and look forward to continuing to develop my skills and support the team.',\n",
       "       'Reflecting on this quarter, I’m proud of the high-quality work I’ve delivered and the technical skills I’ve demonstrated. Managing tight deadlines has been challenging but I’ve been able to meet them reliably. Balancing multiple priorities has been an area of focus for me, and I’ve developed strategies to manage my time more effectively. I’ve worked collaboratively with colleagues across departments, which has enhanced my understanding of different aspects of our work. My communication has been generally effective, though I plan to be more proactive in team discussions moving forward. I’ve taken the initiative to suggest improvements to existing processes and have seen positive feedback on these ideas. Engaging in learning opportunities and applying new knowledge has been beneficial for my role. Problem-solving is a strong suit of mine, and I’ve enjoyed developing creative solutions to issues we’ve encountered. My punctuality has been excellent, and I’ve maintained a reliable attendance record. Improving my multitasking abilities is an area I’m focusing on to manage competing priorities better. Volunteering for challenging projects has been a great learning experience and has helped me grow. I’ve maintained a positive attitude and adaptability, even when faced with changing project requirements. My understanding of both technical and strategic goals has deepened over the past quarter. My suggestion to optimize our resource allocation process has been implemented and has improved efficiency. Seeking and acting on feedback has been a priority for me, and I’ve seen positive results. I believe my dedication and proactive approach have contributed positively to the team. Overall, I’m pleased with my progress and am committed to continuing to support our team and enhance my skills.'],\n",
       "      dtype=object)"
      ]
     },
     "execution_count": 141,
     "metadata": {},
     "output_type": "execute_result"
    }
   ],
   "source": [
    "new_reviews_comments_2['Performance Reviews'].unique()"
   ]
  },
  {
   "cell_type": "code",
   "execution_count": null,
   "id": "d875a18c",
   "metadata": {},
   "outputs": [],
   "source": []
  },
  {
   "cell_type": "code",
   "execution_count": null,
   "id": "8c3c649d",
   "metadata": {},
   "outputs": [],
   "source": []
  }
 ],
 "metadata": {
  "kernelspec": {
   "display_name": "Python 3 (ipykernel)",
   "language": "python",
   "name": "python3"
  },
  "language_info": {
   "codemirror_mode": {
    "name": "ipython",
    "version": 3
   },
   "file_extension": ".py",
   "mimetype": "text/x-python",
   "name": "python",
   "nbconvert_exporter": "python",
   "pygments_lexer": "ipython3",
   "version": "3.9.12"
  }
 },
 "nbformat": 4,
 "nbformat_minor": 5
}
